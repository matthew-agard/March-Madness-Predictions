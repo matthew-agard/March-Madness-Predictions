{
 "cells": [
  {
   "cell_type": "code",
   "execution_count": 36,
   "metadata": {},
   "outputs": [],
   "source": [
    "# Standard Python libraries\n",
    "import pandas as pd\n",
    "import numpy as np\n",
    "import matplotlib.pyplot as plt\n",
    "from sklearn.ensemble import RandomForestClassifier\n",
    "from sklearn.model_selection import train_test_split\n",
    "from IPython.display import display\n",
    "import re\n",
    "from datetime import datetime\n",
    "start_year = 1993\n",
    "curr_year = datetime.now().year\n",
    "import warnings\n",
    "warnings.filterwarnings(\"ignore\")"
   ]
  },
  {
   "cell_type": "code",
   "execution_count": 37,
   "metadata": {},
   "outputs": [],
   "source": [
    "# Custom API\n",
    "from sys import path\n",
    "\n",
    "path.append('../API/fetch')\n",
    "import data_fetch as fetch\n",
    "\n",
    "path.append('../API/preprocess')\n",
    "from data_pipeline import dataset_pipeline, feature_pipeline, bracket_pipeline\n",
    "\n",
    "path.append('../API/eda')\n",
    "from data_visualizations import get_yearly_base_rates, get_seed_pairs, format_plot\n",
    "\n",
    "path.append('../API/model')\n",
    "from model_selection import get_cv_models\n",
    "from model_evaluation import evaluate_cv_models, get_classification_report\n",
    "\n",
    "# Return to original path following API imports\n",
    "path.append(f'../../{curr_year}')"
   ]
  },
  {
   "cell_type": "markdown",
   "metadata": {},
   "source": [
    "# Data Fetching"
   ]
  },
  {
   "cell_type": "markdown",
   "metadata": {},
   "source": [
    "### Perceived Predictors\n",
    "\n",
    "Naturally, it will be vitally important to scrape available data that is pertinent to deciding the outcome of an NCAA March Madness game between any two given teams. To successfully do so, we must break down what are generally the most influential elements of a basketball team's success.\n",
    "\n",
    "<br>Overall team performance during the regular season is generally a good indicator of how a team will perform in March Madness. This would be captured by statistics, both basic and advanced, such as the following:\n",
    "<br>**Season Record (%)\n",
    "<br>Conference Record (%); could be important given that the tournament is split into regions\n",
    "<br>Regular Season Record vs. Tourney Opponent (%); set to theoretical discrete probability of 50% if no such matchups exist \n",
    "<br>Strength of Schedule (SOS); measures the difficulty of the teams played (higher number = greater difficulty)\n",
    "<br>Top 25 Ranking (boolean); considered a consensus top-tier team\n",
    "<br>Shots Made per Game (FG, 3P, FT)\n",
    "<br>Point Differential per Game; measures how dominant/unsuccessful you are at outscoring your opponent on average\n",
    "<br>Misc. Team Stats per Game (Rebounds, Assists, Blocks, etc.)**\n",
    "\n",
    "<br>It's important to note that in the NCAA, more so than the NBA, experienced coaches can have just as much of an impact on a game's outcome as the players themselves. Hence, it's reasonable to assume that the following statistics could also be solid indicators:\n",
    "**<br>Coach March Madness Appearances\n",
    "<br>Coach Sweet Sixteen Appearances\n",
    "<br>Coach Final Four Appearances\n",
    "<br>Coach Championships Won**\n",
    "\n",
    "<br>And lastly, we need the data for the structure of the tournaments themselves:\n",
    "**<br>Favorite Seed\n",
    "<br>Underdog Seed\n",
    "<br>Round Number (0-6)\n",
    "<br>Game Outcome (boolean); did the underdog upset the favorite?**"
   ]
  },
  {
   "cell_type": "markdown",
   "metadata": {},
   "source": [
    "## Examples"
   ]
  },
  {
   "cell_type": "markdown",
   "metadata": {},
   "source": [
    "### Team Regular Season Stats"
   ]
  },
  {
   "cell_type": "code",
   "execution_count": 2,
   "metadata": {
    "scrolled": true
   },
   "outputs": [
    {
     "data": {
      "text/html": [
       "<div>\n",
       "<style scoped>\n",
       "    .dataframe tbody tr th:only-of-type {\n",
       "        vertical-align: middle;\n",
       "    }\n",
       "\n",
       "    .dataframe tbody tr th {\n",
       "        vertical-align: top;\n",
       "    }\n",
       "\n",
       "    .dataframe thead th {\n",
       "        text-align: right;\n",
       "    }\n",
       "</style>\n",
       "<table border=\"1\" class=\"dataframe\">\n",
       "  <thead>\n",
       "    <tr style=\"text-align: right;\">\n",
       "      <th></th>\n",
       "      <th>Rk</th>\n",
       "      <th>School</th>\n",
       "      <th>G</th>\n",
       "      <th>W</th>\n",
       "      <th>L</th>\n",
       "      <th>W-L%</th>\n",
       "      <th>SRS</th>\n",
       "      <th>SOS</th>\n",
       "      <th>Unnamed: 8</th>\n",
       "      <th>W.1</th>\n",
       "      <th>...</th>\n",
       "      <th>FT</th>\n",
       "      <th>FTA</th>\n",
       "      <th>FT%</th>\n",
       "      <th>ORB</th>\n",
       "      <th>TRB</th>\n",
       "      <th>AST</th>\n",
       "      <th>STL</th>\n",
       "      <th>BLK</th>\n",
       "      <th>TOV</th>\n",
       "      <th>PF</th>\n",
       "    </tr>\n",
       "  </thead>\n",
       "  <tbody>\n",
       "    <tr>\n",
       "      <th>0</th>\n",
       "      <td>1</td>\n",
       "      <td>Air Force</td>\n",
       "      <td>28</td>\n",
       "      <td>9</td>\n",
       "      <td>19</td>\n",
       "      <td>.321</td>\n",
       "      <td>-7.45</td>\n",
       "      <td>2.05</td>\n",
       "      <td>NaN</td>\n",
       "      <td>3</td>\n",
       "      <td>...</td>\n",
       "      <td>409</td>\n",
       "      <td>584</td>\n",
       "      <td>.700</td>\n",
       "      <td>NaN</td>\n",
       "      <td>965</td>\n",
       "      <td>285</td>\n",
       "      <td>178</td>\n",
       "      <td>109</td>\n",
       "      <td>385</td>\n",
       "      <td>546</td>\n",
       "    </tr>\n",
       "    <tr>\n",
       "      <th>1</th>\n",
       "      <td>2</td>\n",
       "      <td>Akron</td>\n",
       "      <td>26</td>\n",
       "      <td>8</td>\n",
       "      <td>18</td>\n",
       "      <td>.308</td>\n",
       "      <td>-10.69</td>\n",
       "      <td>-5.07</td>\n",
       "      <td>NaN</td>\n",
       "      <td>3</td>\n",
       "      <td>...</td>\n",
       "      <td>320</td>\n",
       "      <td>493</td>\n",
       "      <td>.649</td>\n",
       "      <td>NaN</td>\n",
       "      <td>795</td>\n",
       "      <td>316</td>\n",
       "      <td>163</td>\n",
       "      <td>47</td>\n",
       "      <td>352</td>\n",
       "      <td>573</td>\n",
       "    </tr>\n",
       "    <tr>\n",
       "      <th>2</th>\n",
       "      <td>3</td>\n",
       "      <td>Alabama-Birmingham</td>\n",
       "      <td>35</td>\n",
       "      <td>21</td>\n",
       "      <td>14</td>\n",
       "      <td>.600</td>\n",
       "      <td>10.82</td>\n",
       "      <td>5.68</td>\n",
       "      <td>NaN</td>\n",
       "      <td>5</td>\n",
       "      <td>...</td>\n",
       "      <td>456</td>\n",
       "      <td>650</td>\n",
       "      <td>.702</td>\n",
       "      <td>NaN</td>\n",
       "      <td>1273</td>\n",
       "      <td>501</td>\n",
       "      <td>246</td>\n",
       "      <td>135</td>\n",
       "      <td>498</td>\n",
       "      <td>650</td>\n",
       "    </tr>\n",
       "    <tr>\n",
       "      <th>3</th>\n",
       "      <td>4</td>\n",
       "      <td>Alabama State</td>\n",
       "      <td>27</td>\n",
       "      <td>14</td>\n",
       "      <td>13</td>\n",
       "      <td>.519</td>\n",
       "      <td>-8.48</td>\n",
       "      <td>-9.70</td>\n",
       "      <td>NaN</td>\n",
       "      <td>9</td>\n",
       "      <td>...</td>\n",
       "      <td>541</td>\n",
       "      <td>767</td>\n",
       "      <td>.705</td>\n",
       "      <td>NaN</td>\n",
       "      <td>1049</td>\n",
       "      <td>393</td>\n",
       "      <td>194</td>\n",
       "      <td>42</td>\n",
       "      <td>556</td>\n",
       "      <td>567</td>\n",
       "    </tr>\n",
       "    <tr>\n",
       "      <th>4</th>\n",
       "      <td>5</td>\n",
       "      <td>Alabama</td>\n",
       "      <td>29</td>\n",
       "      <td>16</td>\n",
       "      <td>13</td>\n",
       "      <td>.552</td>\n",
       "      <td>9.66</td>\n",
       "      <td>7.83</td>\n",
       "      <td>NaN</td>\n",
       "      <td>7</td>\n",
       "      <td>...</td>\n",
       "      <td>458</td>\n",
       "      <td>702</td>\n",
       "      <td>.652</td>\n",
       "      <td>NaN</td>\n",
       "      <td>1117</td>\n",
       "      <td>337</td>\n",
       "      <td>185</td>\n",
       "      <td>120</td>\n",
       "      <td>487</td>\n",
       "      <td>539</td>\n",
       "    </tr>\n",
       "  </tbody>\n",
       "</table>\n",
       "<p>5 rows × 38 columns</p>\n",
       "</div>"
      ],
      "text/plain": [
       "  Rk              School   G   W   L  W-L%     SRS    SOS  Unnamed: 8 W.1  \\\n",
       "0  1           Air Force  28   9  19  .321   -7.45   2.05         NaN   3   \n",
       "1  2               Akron  26   8  18  .308  -10.69  -5.07         NaN   3   \n",
       "2  3  Alabama-Birmingham  35  21  14  .600   10.82   5.68         NaN   5   \n",
       "3  4       Alabama State  27  14  13  .519   -8.48  -9.70         NaN   9   \n",
       "4  5             Alabama  29  16  13  .552    9.66   7.83         NaN   7   \n",
       "\n",
       "   ...   FT  FTA   FT%  ORB   TRB  AST  STL  BLK  TOV   PF  \n",
       "0  ...  409  584  .700  NaN   965  285  178  109  385  546  \n",
       "1  ...  320  493  .649  NaN   795  316  163   47  352  573  \n",
       "2  ...  456  650  .702  NaN  1273  501  246  135  498  650  \n",
       "3  ...  541  767  .705  NaN  1049  393  194   42  556  567  \n",
       "4  ...  458  702  .652  NaN  1117  337  185  120  487  539  \n",
       "\n",
       "[5 rows x 38 columns]"
      ]
     },
     "execution_count": 2,
     "metadata": {},
     "output_type": "execute_result"
    }
   ],
   "source": [
    "fetch.get_team_data(url=f\"https://www.sports-reference.com/cbb/seasons/{start_year}-school-stats.html\",\n",
    "              attrs={'id': 'basic_school_stats'}).head()"
   ]
  },
  {
   "cell_type": "code",
   "execution_count": 3,
   "metadata": {
    "scrolled": true
   },
   "outputs": [
    {
     "data": {
      "text/html": [
       "<div>\n",
       "<style scoped>\n",
       "    .dataframe tbody tr th:only-of-type {\n",
       "        vertical-align: middle;\n",
       "    }\n",
       "\n",
       "    .dataframe tbody tr th {\n",
       "        vertical-align: top;\n",
       "    }\n",
       "\n",
       "    .dataframe thead th {\n",
       "        text-align: right;\n",
       "    }\n",
       "</style>\n",
       "<table border=\"1\" class=\"dataframe\">\n",
       "  <thead>\n",
       "    <tr style=\"text-align: right;\">\n",
       "      <th></th>\n",
       "      <th>Rk</th>\n",
       "      <th>School</th>\n",
       "      <th>G</th>\n",
       "      <th>W</th>\n",
       "      <th>L</th>\n",
       "      <th>W-L%</th>\n",
       "      <th>SRS</th>\n",
       "      <th>SOS</th>\n",
       "      <th>Unnamed: 8</th>\n",
       "      <th>W.1</th>\n",
       "      <th>...</th>\n",
       "      <th>3PAr</th>\n",
       "      <th>TS%</th>\n",
       "      <th>TRB%</th>\n",
       "      <th>AST%</th>\n",
       "      <th>STL%</th>\n",
       "      <th>BLK%</th>\n",
       "      <th>eFG%</th>\n",
       "      <th>TOV%</th>\n",
       "      <th>ORB%</th>\n",
       "      <th>FT/FGA</th>\n",
       "    </tr>\n",
       "  </thead>\n",
       "  <tbody>\n",
       "    <tr>\n",
       "      <th>0</th>\n",
       "      <td>1</td>\n",
       "      <td>Air Force</td>\n",
       "      <td>28</td>\n",
       "      <td>9</td>\n",
       "      <td>19</td>\n",
       "      <td>.321</td>\n",
       "      <td>-7.45</td>\n",
       "      <td>2.05</td>\n",
       "      <td>NaN</td>\n",
       "      <td>3</td>\n",
       "      <td>...</td>\n",
       "      <td>.279</td>\n",
       "      <td>.500</td>\n",
       "      <td>49.9</td>\n",
       "      <td>44.3</td>\n",
       "      <td>NaN</td>\n",
       "      <td>9.6</td>\n",
       "      <td>.458</td>\n",
       "      <td>17.4</td>\n",
       "      <td>NaN</td>\n",
       "      <td>.263</td>\n",
       "    </tr>\n",
       "    <tr>\n",
       "      <th>1</th>\n",
       "      <td>2</td>\n",
       "      <td>Akron</td>\n",
       "      <td>26</td>\n",
       "      <td>8</td>\n",
       "      <td>18</td>\n",
       "      <td>.308</td>\n",
       "      <td>-10.69</td>\n",
       "      <td>-5.07</td>\n",
       "      <td>NaN</td>\n",
       "      <td>3</td>\n",
       "      <td>...</td>\n",
       "      <td>.277</td>\n",
       "      <td>.517</td>\n",
       "      <td>51.1</td>\n",
       "      <td>54.5</td>\n",
       "      <td>NaN</td>\n",
       "      <td>5.5</td>\n",
       "      <td>.488</td>\n",
       "      <td>18.4</td>\n",
       "      <td>NaN</td>\n",
       "      <td>.241</td>\n",
       "    </tr>\n",
       "    <tr>\n",
       "      <th>2</th>\n",
       "      <td>3</td>\n",
       "      <td>Alabama-Birmingham</td>\n",
       "      <td>35</td>\n",
       "      <td>21</td>\n",
       "      <td>14</td>\n",
       "      <td>.600</td>\n",
       "      <td>10.82</td>\n",
       "      <td>5.68</td>\n",
       "      <td>NaN</td>\n",
       "      <td>5</td>\n",
       "      <td>...</td>\n",
       "      <td>.270</td>\n",
       "      <td>.527</td>\n",
       "      <td>52.2</td>\n",
       "      <td>56.4</td>\n",
       "      <td>NaN</td>\n",
       "      <td>9.6</td>\n",
       "      <td>.494</td>\n",
       "      <td>17.8</td>\n",
       "      <td>NaN</td>\n",
       "      <td>.228</td>\n",
       "    </tr>\n",
       "    <tr>\n",
       "      <th>3</th>\n",
       "      <td>4</td>\n",
       "      <td>Alabama State</td>\n",
       "      <td>27</td>\n",
       "      <td>14</td>\n",
       "      <td>13</td>\n",
       "      <td>.519</td>\n",
       "      <td>-8.48</td>\n",
       "      <td>-9.70</td>\n",
       "      <td>NaN</td>\n",
       "      <td>9</td>\n",
       "      <td>...</td>\n",
       "      <td>.203</td>\n",
       "      <td>.557</td>\n",
       "      <td>51.3</td>\n",
       "      <td>46.1</td>\n",
       "      <td>NaN</td>\n",
       "      <td>2.8</td>\n",
       "      <td>.518</td>\n",
       "      <td>20.7</td>\n",
       "      <td>NaN</td>\n",
       "      <td>.305</td>\n",
       "    </tr>\n",
       "    <tr>\n",
       "      <th>4</th>\n",
       "      <td>5</td>\n",
       "      <td>Alabama</td>\n",
       "      <td>29</td>\n",
       "      <td>16</td>\n",
       "      <td>13</td>\n",
       "      <td>.552</td>\n",
       "      <td>9.66</td>\n",
       "      <td>7.83</td>\n",
       "      <td>NaN</td>\n",
       "      <td>7</td>\n",
       "      <td>...</td>\n",
       "      <td>.299</td>\n",
       "      <td>.541</td>\n",
       "      <td>51.7</td>\n",
       "      <td>43.1</td>\n",
       "      <td>NaN</td>\n",
       "      <td>8.9</td>\n",
       "      <td>.513</td>\n",
       "      <td>19.4</td>\n",
       "      <td>NaN</td>\n",
       "      <td>.271</td>\n",
       "    </tr>\n",
       "  </tbody>\n",
       "</table>\n",
       "<p>5 rows × 34 columns</p>\n",
       "</div>"
      ],
      "text/plain": [
       "  Rk              School   G   W   L  W-L%     SRS    SOS  Unnamed: 8 W.1  \\\n",
       "0  1           Air Force  28   9  19  .321   -7.45   2.05         NaN   3   \n",
       "1  2               Akron  26   8  18  .308  -10.69  -5.07         NaN   3   \n",
       "2  3  Alabama-Birmingham  35  21  14  .600   10.82   5.68         NaN   5   \n",
       "3  4       Alabama State  27  14  13  .519   -8.48  -9.70         NaN   9   \n",
       "4  5             Alabama  29  16  13  .552    9.66   7.83         NaN   7   \n",
       "\n",
       "   ...  3PAr   TS%  TRB%  AST%  STL% BLK%  eFG%  TOV% ORB% FT/FGA  \n",
       "0  ...  .279  .500  49.9  44.3   NaN  9.6  .458  17.4  NaN   .263  \n",
       "1  ...  .277  .517  51.1  54.5   NaN  5.5  .488  18.4  NaN   .241  \n",
       "2  ...  .270  .527  52.2  56.4   NaN  9.6  .494  17.8  NaN   .228  \n",
       "3  ...  .203  .557  51.3  46.1   NaN  2.8  .518  20.7  NaN   .305  \n",
       "4  ...  .299  .541  51.7  43.1   NaN  8.9  .513  19.4  NaN   .271  \n",
       "\n",
       "[5 rows x 34 columns]"
      ]
     },
     "execution_count": 3,
     "metadata": {},
     "output_type": "execute_result"
    }
   ],
   "source": [
    "fetch.get_team_data(url=f\"https://www.sports-reference.com/cbb/seasons/{start_year}-advanced-school-stats.html\", \n",
    "              attrs={'id': 'adv_school_stats'}).head()"
   ]
  },
  {
   "cell_type": "markdown",
   "metadata": {},
   "source": [
    "### Team Rankings"
   ]
  },
  {
   "cell_type": "code",
   "execution_count": 4,
   "metadata": {
    "scrolled": true
   },
   "outputs": [
    {
     "data": {
      "text/html": [
       "<div>\n",
       "<style scoped>\n",
       "    .dataframe tbody tr th:only-of-type {\n",
       "        vertical-align: middle;\n",
       "    }\n",
       "\n",
       "    .dataframe tbody tr th {\n",
       "        vertical-align: top;\n",
       "    }\n",
       "\n",
       "    .dataframe thead th {\n",
       "        text-align: right;\n",
       "    }\n",
       "</style>\n",
       "<table border=\"1\" class=\"dataframe\">\n",
       "  <thead>\n",
       "    <tr style=\"text-align: right;\">\n",
       "      <th></th>\n",
       "      <th>Team</th>\n",
       "      <th>Top_25</th>\n",
       "    </tr>\n",
       "  </thead>\n",
       "  <tbody>\n",
       "    <tr>\n",
       "      <th>2</th>\n",
       "      <td>North Carolina</td>\n",
       "      <td>1</td>\n",
       "    </tr>\n",
       "    <tr>\n",
       "      <th>3</th>\n",
       "      <td>Kentucky</td>\n",
       "      <td>1</td>\n",
       "    </tr>\n",
       "    <tr>\n",
       "      <th>4</th>\n",
       "      <td>Duke</td>\n",
       "      <td>1</td>\n",
       "    </tr>\n",
       "    <tr>\n",
       "      <th>5</th>\n",
       "      <td>Indiana</td>\n",
       "      <td>1</td>\n",
       "    </tr>\n",
       "    <tr>\n",
       "      <th>6</th>\n",
       "      <td>Cincinnati</td>\n",
       "      <td>1</td>\n",
       "    </tr>\n",
       "  </tbody>\n",
       "</table>\n",
       "</div>"
      ],
      "text/plain": [
       "             Team Top_25\n",
       "2  North Carolina      1\n",
       "3        Kentucky      1\n",
       "4            Duke      1\n",
       "5         Indiana      1\n",
       "6      Cincinnati      1"
      ]
     },
     "execution_count": 4,
     "metadata": {},
     "output_type": "execute_result"
    }
   ],
   "source": [
    "fetch.get_rankings_data(url=f\"https://www.sports-reference.com/cbb/seasons/{start_year}-ratings.html\").head()"
   ]
  },
  {
   "cell_type": "markdown",
   "metadata": {},
   "source": [
    "### Coach Tournament Performance"
   ]
  },
  {
   "cell_type": "code",
   "execution_count": 5,
   "metadata": {},
   "outputs": [
    {
     "data": {
      "text/html": [
       "<div>\n",
       "<style scoped>\n",
       "    .dataframe tbody tr th:only-of-type {\n",
       "        vertical-align: middle;\n",
       "    }\n",
       "\n",
       "    .dataframe tbody tr th {\n",
       "        vertical-align: top;\n",
       "    }\n",
       "\n",
       "    .dataframe thead th {\n",
       "        text-align: right;\n",
       "    }\n",
       "</style>\n",
       "<table border=\"1\" class=\"dataframe\">\n",
       "  <thead>\n",
       "    <tr style=\"text-align: right;\">\n",
       "      <th></th>\n",
       "      <th>Coach_Team</th>\n",
       "      <th>MM</th>\n",
       "      <th>S16</th>\n",
       "      <th>F4</th>\n",
       "      <th>Champs</th>\n",
       "    </tr>\n",
       "  </thead>\n",
       "  <tbody>\n",
       "    <tr>\n",
       "      <th>2</th>\n",
       "      <td>Air Force</td>\n",
       "      <td></td>\n",
       "      <td></td>\n",
       "      <td></td>\n",
       "      <td></td>\n",
       "    </tr>\n",
       "    <tr>\n",
       "      <th>3</th>\n",
       "      <td>Akron</td>\n",
       "      <td></td>\n",
       "      <td></td>\n",
       "      <td></td>\n",
       "      <td></td>\n",
       "    </tr>\n",
       "    <tr>\n",
       "      <th>4</th>\n",
       "      <td>Alabama</td>\n",
       "      <td></td>\n",
       "      <td></td>\n",
       "      <td></td>\n",
       "      <td></td>\n",
       "    </tr>\n",
       "    <tr>\n",
       "      <th>5</th>\n",
       "      <td>Alabama-Birmingham</td>\n",
       "      <td>11</td>\n",
       "      <td>5</td>\n",
       "      <td>2</td>\n",
       "      <td></td>\n",
       "    </tr>\n",
       "    <tr>\n",
       "      <th>6</th>\n",
       "      <td>Alabama State</td>\n",
       "      <td></td>\n",
       "      <td></td>\n",
       "      <td></td>\n",
       "      <td></td>\n",
       "    </tr>\n",
       "  </tbody>\n",
       "</table>\n",
       "</div>"
      ],
      "text/plain": [
       "           Coach_Team  MM S16 F4 Champs\n",
       "2           Air Force                  \n",
       "3               Akron                  \n",
       "4             Alabama                  \n",
       "5  Alabama-Birmingham  11   5  2       \n",
       "6       Alabama State                  "
      ]
     },
     "execution_count": 5,
     "metadata": {},
     "output_type": "execute_result"
    }
   ],
   "source": [
    "fetch.get_coach_data(url=f\"https://www.sports-reference.com/cbb/seasons/{start_year}-coaches.html\").head()"
   ]
  },
  {
   "cell_type": "markdown",
   "metadata": {},
   "source": [
    "### Tournament Game Data"
   ]
  },
  {
   "cell_type": "code",
   "execution_count": 6,
   "metadata": {
    "scrolled": false
   },
   "outputs": [
    {
     "data": {
      "text/html": [
       "<div>\n",
       "<style scoped>\n",
       "    .dataframe tbody tr th:only-of-type {\n",
       "        vertical-align: middle;\n",
       "    }\n",
       "\n",
       "    .dataframe tbody tr th {\n",
       "        vertical-align: top;\n",
       "    }\n",
       "\n",
       "    .dataframe thead th {\n",
       "        text-align: right;\n",
       "    }\n",
       "</style>\n",
       "<table border=\"1\" class=\"dataframe\">\n",
       "  <thead>\n",
       "    <tr style=\"text-align: right;\">\n",
       "      <th></th>\n",
       "      <th>Year</th>\n",
       "      <th>Round</th>\n",
       "      <th>Seed</th>\n",
       "      <th>Team</th>\n",
       "      <th>Score</th>\n",
       "      <th>Seed.1</th>\n",
       "      <th>Team.1</th>\n",
       "      <th>Score.1</th>\n",
       "    </tr>\n",
       "  </thead>\n",
       "  <tbody>\n",
       "    <tr>\n",
       "      <th>0</th>\n",
       "      <td>1993</td>\n",
       "      <td>National ChampionshipNational Championship</td>\n",
       "      <td>1</td>\n",
       "      <td>Michigan  Michigan</td>\n",
       "      <td>71</td>\n",
       "      <td>1</td>\n",
       "      <td>North Carolina  North Carolina</td>\n",
       "      <td>77</td>\n",
       "    </tr>\n",
       "    <tr>\n",
       "      <th>1</th>\n",
       "      <td>1993</td>\n",
       "      <td>Final FourFinal Four</td>\n",
       "      <td>1</td>\n",
       "      <td>Kentucky  Kentucky</td>\n",
       "      <td>78</td>\n",
       "      <td>1</td>\n",
       "      <td>Michigan  Michigan</td>\n",
       "      <td>81</td>\n",
       "    </tr>\n",
       "    <tr>\n",
       "      <th>2</th>\n",
       "      <td>1993</td>\n",
       "      <td>Final FourFinal Four</td>\n",
       "      <td>1</td>\n",
       "      <td>North Carolina  North Carolina</td>\n",
       "      <td>78</td>\n",
       "      <td>2</td>\n",
       "      <td>Kansas  Kansas</td>\n",
       "      <td>68</td>\n",
       "    </tr>\n",
       "    <tr>\n",
       "      <th>3</th>\n",
       "      <td>1993</td>\n",
       "      <td>Elite EightElite Eight</td>\n",
       "      <td>1</td>\n",
       "      <td>Michigan  Michigan</td>\n",
       "      <td>77</td>\n",
       "      <td>7</td>\n",
       "      <td>Temple  Temple</td>\n",
       "      <td>72</td>\n",
       "    </tr>\n",
       "    <tr>\n",
       "      <th>4</th>\n",
       "      <td>1993</td>\n",
       "      <td>Elite EightElite Eight</td>\n",
       "      <td>1</td>\n",
       "      <td>Kentucky  Kentucky</td>\n",
       "      <td>106</td>\n",
       "      <td>3</td>\n",
       "      <td>Florida State  Florida State</td>\n",
       "      <td>81</td>\n",
       "    </tr>\n",
       "  </tbody>\n",
       "</table>\n",
       "</div>"
      ],
      "text/plain": [
       "   Year                                       Round  Seed  \\\n",
       "0  1993  National ChampionshipNational Championship     1   \n",
       "1  1993                        Final FourFinal Four     1   \n",
       "2  1993                        Final FourFinal Four     1   \n",
       "3  1993                      Elite EightElite Eight     1   \n",
       "4  1993                      Elite EightElite Eight     1   \n",
       "\n",
       "                             Team  Score  Seed.1  \\\n",
       "0              Michigan  Michigan     71       1   \n",
       "1              Kentucky  Kentucky     78       1   \n",
       "2  North Carolina  North Carolina     78       2   \n",
       "3              Michigan  Michigan     77       7   \n",
       "4              Kentucky  Kentucky    106       3   \n",
       "\n",
       "                           Team.1  Score.1  \n",
       "0  North Carolina  North Carolina       77  \n",
       "1              Michigan  Michigan       81  \n",
       "2                  Kansas  Kansas       68  \n",
       "3                  Temple  Temple       72  \n",
       "4    Florida State  Florida State       81  "
      ]
     },
     "execution_count": 6,
     "metadata": {},
     "output_type": "execute_result"
    }
   ],
   "source": [
    "fetch.get_team_data(url=(\"https://apps.washingtonpost.com/sports/search/?pri_school_id=&pri_conference=&pri_coach\"\n",
    "                   \"=&pri_seed_from=1&pri_seed_to=16&pri_power_conference=&pri_bid_type=&opp_school_id\"\n",
    "                   \"=&opp_conference=&opp_coach=&opp_seed_from=1&opp_seed_to=16&opp_power_conference=&opp_bid_type\"\n",
    "                   f\"=&game_type=7&from={start_year}&to={start_year}&submit=\"), \n",
    "              attrs={'class': 'search-results'}, header=0).head()"
   ]
  },
  {
   "cell_type": "markdown",
   "metadata": {},
   "source": [
    "# Data Cleaning"
   ]
  },
  {
   "cell_type": "markdown",
   "metadata": {},
   "source": [
    "## Data Pipeline"
   ]
  },
  {
   "cell_type": "code",
   "execution_count": 7,
   "metadata": {},
   "outputs": [
    {
     "data": {
      "text/html": [
       "<div>\n",
       "<style scoped>\n",
       "    .dataframe tbody tr th:only-of-type {\n",
       "        vertical-align: middle;\n",
       "    }\n",
       "\n",
       "    .dataframe tbody tr th {\n",
       "        vertical-align: top;\n",
       "    }\n",
       "\n",
       "    .dataframe thead th {\n",
       "        text-align: right;\n",
       "    }\n",
       "</style>\n",
       "<table border=\"1\" class=\"dataframe\">\n",
       "  <thead>\n",
       "    <tr style=\"text-align: right;\">\n",
       "      <th></th>\n",
       "      <th>Year</th>\n",
       "      <th>Round</th>\n",
       "      <th>Seed_Favorite</th>\n",
       "      <th>Team_Favorite</th>\n",
       "      <th>Seed_Underdog</th>\n",
       "      <th>Team_Underdog</th>\n",
       "      <th>Underdog_Upset</th>\n",
       "      <th>G_Favorite</th>\n",
       "      <th>W-L%_Favorite</th>\n",
       "      <th>SOS_Favorite</th>\n",
       "      <th>...</th>\n",
       "      <th>FG/Game_Underdog</th>\n",
       "      <th>3P/Game_Underdog</th>\n",
       "      <th>FT/Game_Underdog</th>\n",
       "      <th>ORB/Game_Underdog</th>\n",
       "      <th>TRB/Game_Underdog</th>\n",
       "      <th>AST/Game_Underdog</th>\n",
       "      <th>STL/Game_Underdog</th>\n",
       "      <th>BLK/Game_Underdog</th>\n",
       "      <th>TOV/Game_Underdog</th>\n",
       "      <th>PF/Game_Underdog</th>\n",
       "    </tr>\n",
       "  </thead>\n",
       "  <tbody>\n",
       "    <tr>\n",
       "      <th>0</th>\n",
       "      <td>1993</td>\n",
       "      <td>National Championship</td>\n",
       "      <td>1</td>\n",
       "      <td>North Carolina</td>\n",
       "      <td>1</td>\n",
       "      <td>Michigan</td>\n",
       "      <td>0</td>\n",
       "      <td>38.0</td>\n",
       "      <td>0.895</td>\n",
       "      <td>11.25</td>\n",
       "      <td>...</td>\n",
       "      <td>31.4</td>\n",
       "      <td>4.2</td>\n",
       "      <td>14.9</td>\n",
       "      <td>NaN</td>\n",
       "      <td>41.5</td>\n",
       "      <td>16.3</td>\n",
       "      <td>6.8</td>\n",
       "      <td>5.4</td>\n",
       "      <td>15.6</td>\n",
       "      <td>18.6</td>\n",
       "    </tr>\n",
       "    <tr>\n",
       "      <th>1</th>\n",
       "      <td>1993</td>\n",
       "      <td>Final Four</td>\n",
       "      <td>1</td>\n",
       "      <td>Kentucky</td>\n",
       "      <td>1</td>\n",
       "      <td>Michigan</td>\n",
       "      <td>1</td>\n",
       "      <td>34.0</td>\n",
       "      <td>0.882</td>\n",
       "      <td>9.23</td>\n",
       "      <td>...</td>\n",
       "      <td>31.4</td>\n",
       "      <td>4.2</td>\n",
       "      <td>14.9</td>\n",
       "      <td>NaN</td>\n",
       "      <td>41.5</td>\n",
       "      <td>16.3</td>\n",
       "      <td>6.8</td>\n",
       "      <td>5.4</td>\n",
       "      <td>15.6</td>\n",
       "      <td>18.6</td>\n",
       "    </tr>\n",
       "    <tr>\n",
       "      <th>2</th>\n",
       "      <td>1993</td>\n",
       "      <td>Final Four</td>\n",
       "      <td>1</td>\n",
       "      <td>North Carolina</td>\n",
       "      <td>2</td>\n",
       "      <td>Kansas</td>\n",
       "      <td>0</td>\n",
       "      <td>38.0</td>\n",
       "      <td>0.895</td>\n",
       "      <td>11.25</td>\n",
       "      <td>...</td>\n",
       "      <td>30.8</td>\n",
       "      <td>6.0</td>\n",
       "      <td>16.8</td>\n",
       "      <td>NaN</td>\n",
       "      <td>36.1</td>\n",
       "      <td>19.1</td>\n",
       "      <td>9.1</td>\n",
       "      <td>2.9</td>\n",
       "      <td>14.5</td>\n",
       "      <td>17.6</td>\n",
       "    </tr>\n",
       "    <tr>\n",
       "      <th>3</th>\n",
       "      <td>1993</td>\n",
       "      <td>Elite Eight</td>\n",
       "      <td>1</td>\n",
       "      <td>Indiana</td>\n",
       "      <td>2</td>\n",
       "      <td>Kansas</td>\n",
       "      <td>1</td>\n",
       "      <td>35.0</td>\n",
       "      <td>0.886</td>\n",
       "      <td>11.09</td>\n",
       "      <td>...</td>\n",
       "      <td>30.8</td>\n",
       "      <td>6.0</td>\n",
       "      <td>16.8</td>\n",
       "      <td>NaN</td>\n",
       "      <td>36.1</td>\n",
       "      <td>19.1</td>\n",
       "      <td>9.1</td>\n",
       "      <td>2.9</td>\n",
       "      <td>14.5</td>\n",
       "      <td>17.6</td>\n",
       "    </tr>\n",
       "    <tr>\n",
       "      <th>4</th>\n",
       "      <td>1993</td>\n",
       "      <td>Elite Eight</td>\n",
       "      <td>1</td>\n",
       "      <td>North Carolina</td>\n",
       "      <td>2</td>\n",
       "      <td>Cincinnati</td>\n",
       "      <td>0</td>\n",
       "      <td>38.0</td>\n",
       "      <td>0.895</td>\n",
       "      <td>11.25</td>\n",
       "      <td>...</td>\n",
       "      <td>28.1</td>\n",
       "      <td>5.0</td>\n",
       "      <td>13.2</td>\n",
       "      <td>NaN</td>\n",
       "      <td>36.0</td>\n",
       "      <td>16.0</td>\n",
       "      <td>10.0</td>\n",
       "      <td>2.6</td>\n",
       "      <td>14.1</td>\n",
       "      <td>18.5</td>\n",
       "    </tr>\n",
       "    <tr>\n",
       "      <th>...</th>\n",
       "      <td>...</td>\n",
       "      <td>...</td>\n",
       "      <td>...</td>\n",
       "      <td>...</td>\n",
       "      <td>...</td>\n",
       "      <td>...</td>\n",
       "      <td>...</td>\n",
       "      <td>...</td>\n",
       "      <td>...</td>\n",
       "      <td>...</td>\n",
       "      <td>...</td>\n",
       "      <td>...</td>\n",
       "      <td>...</td>\n",
       "      <td>...</td>\n",
       "      <td>...</td>\n",
       "      <td>...</td>\n",
       "      <td>...</td>\n",
       "      <td>...</td>\n",
       "      <td>...</td>\n",
       "      <td>...</td>\n",
       "      <td>...</td>\n",
       "    </tr>\n",
       "    <tr>\n",
       "      <th>1742</th>\n",
       "      <td>2019</td>\n",
       "      <td>First Round</td>\n",
       "      <td>6</td>\n",
       "      <td>Maryland</td>\n",
       "      <td>11</td>\n",
       "      <td>Belmont</td>\n",
       "      <td>0</td>\n",
       "      <td>34.0</td>\n",
       "      <td>0.676</td>\n",
       "      <td>10.09</td>\n",
       "      <td>...</td>\n",
       "      <td>31.6</td>\n",
       "      <td>10.4</td>\n",
       "      <td>13.4</td>\n",
       "      <td>8.7</td>\n",
       "      <td>38.6</td>\n",
       "      <td>19.5</td>\n",
       "      <td>6.7</td>\n",
       "      <td>3.8</td>\n",
       "      <td>11.4</td>\n",
       "      <td>15.4</td>\n",
       "    </tr>\n",
       "    <tr>\n",
       "      <th>1743</th>\n",
       "      <td>2019</td>\n",
       "      <td>First Round</td>\n",
       "      <td>6</td>\n",
       "      <td>Buffalo</td>\n",
       "      <td>11</td>\n",
       "      <td>Arizona State</td>\n",
       "      <td>0</td>\n",
       "      <td>36.0</td>\n",
       "      <td>0.889</td>\n",
       "      <td>2.62</td>\n",
       "      <td>...</td>\n",
       "      <td>26.4</td>\n",
       "      <td>7.1</td>\n",
       "      <td>17.6</td>\n",
       "      <td>11.7</td>\n",
       "      <td>39.7</td>\n",
       "      <td>13.5</td>\n",
       "      <td>6.3</td>\n",
       "      <td>3.2</td>\n",
       "      <td>13.7</td>\n",
       "      <td>19.9</td>\n",
       "    </tr>\n",
       "    <tr>\n",
       "      <th>1744</th>\n",
       "      <td>2019</td>\n",
       "      <td>Play-In</td>\n",
       "      <td>11</td>\n",
       "      <td>Belmont</td>\n",
       "      <td>11</td>\n",
       "      <td>Temple</td>\n",
       "      <td>0</td>\n",
       "      <td>33.0</td>\n",
       "      <td>0.818</td>\n",
       "      <td>-2.60</td>\n",
       "      <td>...</td>\n",
       "      <td>26.5</td>\n",
       "      <td>7.5</td>\n",
       "      <td>14.3</td>\n",
       "      <td>9.6</td>\n",
       "      <td>34.4</td>\n",
       "      <td>14.4</td>\n",
       "      <td>8.6</td>\n",
       "      <td>2.2</td>\n",
       "      <td>11.2</td>\n",
       "      <td>17.6</td>\n",
       "    </tr>\n",
       "    <tr>\n",
       "      <th>1745</th>\n",
       "      <td>2019</td>\n",
       "      <td>Play-In</td>\n",
       "      <td>16</td>\n",
       "      <td>North Dakota State</td>\n",
       "      <td>16</td>\n",
       "      <td>North Carolina Central</td>\n",
       "      <td>0</td>\n",
       "      <td>35.0</td>\n",
       "      <td>0.543</td>\n",
       "      <td>-2.07</td>\n",
       "      <td>...</td>\n",
       "      <td>25.7</td>\n",
       "      <td>6.5</td>\n",
       "      <td>13.5</td>\n",
       "      <td>11.7</td>\n",
       "      <td>37.2</td>\n",
       "      <td>15.5</td>\n",
       "      <td>6.1</td>\n",
       "      <td>2.7</td>\n",
       "      <td>15.1</td>\n",
       "      <td>17.9</td>\n",
       "    </tr>\n",
       "    <tr>\n",
       "      <th>1746</th>\n",
       "      <td>2019</td>\n",
       "      <td>Play-In</td>\n",
       "      <td>11</td>\n",
       "      <td>Arizona State</td>\n",
       "      <td>11</td>\n",
       "      <td>St. John's</td>\n",
       "      <td>0</td>\n",
       "      <td>34.0</td>\n",
       "      <td>0.676</td>\n",
       "      <td>6.04</td>\n",
       "      <td>...</td>\n",
       "      <td>27.8</td>\n",
       "      <td>8.5</td>\n",
       "      <td>13.1</td>\n",
       "      <td>7.8</td>\n",
       "      <td>32.9</td>\n",
       "      <td>13.9</td>\n",
       "      <td>8.9</td>\n",
       "      <td>3.3</td>\n",
       "      <td>10.5</td>\n",
       "      <td>19.1</td>\n",
       "    </tr>\n",
       "  </tbody>\n",
       "</table>\n",
       "<p>1747 rows × 79 columns</p>\n",
       "</div>"
      ],
      "text/plain": [
       "      Year                  Round  Seed_Favorite       Team_Favorite  \\\n",
       "0     1993  National Championship              1      North Carolina   \n",
       "1     1993             Final Four              1            Kentucky   \n",
       "2     1993             Final Four              1      North Carolina   \n",
       "3     1993            Elite Eight              1             Indiana   \n",
       "4     1993            Elite Eight              1      North Carolina   \n",
       "...    ...                    ...            ...                 ...   \n",
       "1742  2019            First Round              6            Maryland   \n",
       "1743  2019            First Round              6             Buffalo   \n",
       "1744  2019                Play-In             11             Belmont   \n",
       "1745  2019                Play-In             16  North Dakota State   \n",
       "1746  2019                Play-In             11       Arizona State   \n",
       "\n",
       "      Seed_Underdog           Team_Underdog  Underdog_Upset  G_Favorite  \\\n",
       "0                 1                Michigan               0        38.0   \n",
       "1                 1                Michigan               1        34.0   \n",
       "2                 2                  Kansas               0        38.0   \n",
       "3                 2                  Kansas               1        35.0   \n",
       "4                 2              Cincinnati               0        38.0   \n",
       "...             ...                     ...             ...         ...   \n",
       "1742             11                 Belmont               0        34.0   \n",
       "1743             11           Arizona State               0        36.0   \n",
       "1744             11                  Temple               0        33.0   \n",
       "1745             16  North Carolina Central               0        35.0   \n",
       "1746             11              St. John's               0        34.0   \n",
       "\n",
       "      W-L%_Favorite  SOS_Favorite  ...  FG/Game_Underdog  3P/Game_Underdog  \\\n",
       "0             0.895         11.25  ...              31.4               4.2   \n",
       "1             0.882          9.23  ...              31.4               4.2   \n",
       "2             0.895         11.25  ...              30.8               6.0   \n",
       "3             0.886         11.09  ...              30.8               6.0   \n",
       "4             0.895         11.25  ...              28.1               5.0   \n",
       "...             ...           ...  ...               ...               ...   \n",
       "1742          0.676         10.09  ...              31.6              10.4   \n",
       "1743          0.889          2.62  ...              26.4               7.1   \n",
       "1744          0.818         -2.60  ...              26.5               7.5   \n",
       "1745          0.543         -2.07  ...              25.7               6.5   \n",
       "1746          0.676          6.04  ...              27.8               8.5   \n",
       "\n",
       "      FT/Game_Underdog  ORB/Game_Underdog  TRB/Game_Underdog  \\\n",
       "0                 14.9                NaN               41.5   \n",
       "1                 14.9                NaN               41.5   \n",
       "2                 16.8                NaN               36.1   \n",
       "3                 16.8                NaN               36.1   \n",
       "4                 13.2                NaN               36.0   \n",
       "...                ...                ...                ...   \n",
       "1742              13.4                8.7               38.6   \n",
       "1743              17.6               11.7               39.7   \n",
       "1744              14.3                9.6               34.4   \n",
       "1745              13.5               11.7               37.2   \n",
       "1746              13.1                7.8               32.9   \n",
       "\n",
       "      AST/Game_Underdog  STL/Game_Underdog  BLK/Game_Underdog  \\\n",
       "0                  16.3                6.8                5.4   \n",
       "1                  16.3                6.8                5.4   \n",
       "2                  19.1                9.1                2.9   \n",
       "3                  19.1                9.1                2.9   \n",
       "4                  16.0               10.0                2.6   \n",
       "...                 ...                ...                ...   \n",
       "1742               19.5                6.7                3.8   \n",
       "1743               13.5                6.3                3.2   \n",
       "1744               14.4                8.6                2.2   \n",
       "1745               15.5                6.1                2.7   \n",
       "1746               13.9                8.9                3.3   \n",
       "\n",
       "      TOV/Game_Underdog  PF/Game_Underdog  \n",
       "0                  15.6              18.6  \n",
       "1                  15.6              18.6  \n",
       "2                  14.5              17.6  \n",
       "3                  14.5              17.6  \n",
       "4                  14.1              18.5  \n",
       "...                 ...               ...  \n",
       "1742               11.4              15.4  \n",
       "1743               13.7              19.9  \n",
       "1744               11.2              17.6  \n",
       "1745               15.1              17.9  \n",
       "1746               10.5              19.1  \n",
       "\n",
       "[1747 rows x 79 columns]"
      ]
     },
     "execution_count": 7,
     "metadata": {},
     "output_type": "execute_result"
    }
   ],
   "source": [
    "try:\n",
    "    mm_matchups_df = pd.read_csv('2021_march_madness_hist_data.csv')\n",
    "except FileNotFoundError:\n",
    "    mm_matchups_df = dataset_pipeline(np.arange(start_year, curr_year - 1))\n",
    "    mm_matchups_df.to_csv('2021_march_madness_hist_data.csv', index=False)\n",
    "\n",
    "mm_matchups_df"
   ]
  },
  {
   "cell_type": "markdown",
   "metadata": {},
   "source": [
    "## Handling Missing Values"
   ]
  },
  {
   "cell_type": "markdown",
   "metadata": {},
   "source": [
    "### Finding the Nulls"
   ]
  },
  {
   "cell_type": "code",
   "execution_count": 8,
   "metadata": {
    "scrolled": true
   },
   "outputs": [
    {
     "data": {
      "text/plain": [
       "Pace_Underdog        1072\n",
       "Pace_Favorite        1065\n",
       "ORB%_Favorite         766\n",
       "STL%_Favorite         766\n",
       "ORtg_Favorite         766\n",
       "STL%_Underdog         765\n",
       "ORtg_Underdog         765\n",
       "ORB%_Underdog         764\n",
       "ORB/Game_Underdog     255\n",
       "ORB/Game_Favorite     254\n",
       "PF/Game_Favorite       64\n",
       "PF/Game_Underdog       64\n",
       "TOV/Game_Underdog       3\n",
       "TOV%_Underdog           3\n",
       "TOV/Game_Favorite       1\n",
       "TOV%_Favorite           1\n",
       "dtype: int64"
      ]
     },
     "execution_count": 8,
     "metadata": {},
     "output_type": "execute_result"
    }
   ],
   "source": [
    "true_nulls = fetch.get_feature_null_counts(mm_matchups_df)\n",
    "true_nulls"
   ]
  },
  {
   "cell_type": "code",
   "execution_count": 9,
   "metadata": {
    "scrolled": true
   },
   "outputs": [],
   "source": [
    "tov_null_fills = [col for col in true_nulls.index if ('TOV' in col)]\n",
    "pf_null_fills = [col for col in true_nulls.index if ('PF' in col)]\n",
    "\n",
    "null_drops = list(set(true_nulls.index) - set(tov_null_fills) - set(pf_null_fills))\n",
    "mm_matchups_df.drop(null_drops, axis=1, inplace=True)"
   ]
  },
  {
   "cell_type": "code",
   "execution_count": 10,
   "metadata": {},
   "outputs": [
    {
     "data": {
      "text/html": [
       "<div>\n",
       "<style scoped>\n",
       "    .dataframe tbody tr th:only-of-type {\n",
       "        vertical-align: middle;\n",
       "    }\n",
       "\n",
       "    .dataframe tbody tr th {\n",
       "        vertical-align: top;\n",
       "    }\n",
       "\n",
       "    .dataframe thead th {\n",
       "        text-align: right;\n",
       "    }\n",
       "</style>\n",
       "<table border=\"1\" class=\"dataframe\">\n",
       "  <thead>\n",
       "    <tr style=\"text-align: right;\">\n",
       "      <th></th>\n",
       "      <th>Year</th>\n",
       "      <th>TOV/Game_Underdog</th>\n",
       "      <th>TOV%_Underdog</th>\n",
       "      <th>TOV/Game_Favorite</th>\n",
       "      <th>TOV%_Favorite</th>\n",
       "    </tr>\n",
       "  </thead>\n",
       "  <tbody>\n",
       "    <tr>\n",
       "      <th>15</th>\n",
       "      <td>1993</td>\n",
       "      <td>NaN</td>\n",
       "      <td>NaN</td>\n",
       "      <td>15.6</td>\n",
       "      <td>17.4</td>\n",
       "    </tr>\n",
       "    <tr>\n",
       "      <th>16</th>\n",
       "      <td>1993</td>\n",
       "      <td>NaN</td>\n",
       "      <td>NaN</td>\n",
       "      <td>12.0</td>\n",
       "      <td>15.9</td>\n",
       "    </tr>\n",
       "    <tr>\n",
       "      <th>42</th>\n",
       "      <td>1993</td>\n",
       "      <td>17.8</td>\n",
       "      <td>16.6</td>\n",
       "      <td>NaN</td>\n",
       "      <td>NaN</td>\n",
       "    </tr>\n",
       "    <tr>\n",
       "      <th>470</th>\n",
       "      <td>2000</td>\n",
       "      <td>NaN</td>\n",
       "      <td>NaN</td>\n",
       "      <td>15.8</td>\n",
       "      <td>17.8</td>\n",
       "    </tr>\n",
       "  </tbody>\n",
       "</table>\n",
       "</div>"
      ],
      "text/plain": [
       "     Year  TOV/Game_Underdog  TOV%_Underdog  TOV/Game_Favorite  TOV%_Favorite\n",
       "15   1993                NaN            NaN               15.6           17.4\n",
       "16   1993                NaN            NaN               12.0           15.9\n",
       "42   1993               17.8           16.6                NaN            NaN\n",
       "470  2000                NaN            NaN               15.8           17.8"
      ]
     },
     "metadata": {},
     "output_type": "display_data"
    },
    {
     "data": {
      "text/html": [
       "<div>\n",
       "<style scoped>\n",
       "    .dataframe tbody tr th:only-of-type {\n",
       "        vertical-align: middle;\n",
       "    }\n",
       "\n",
       "    .dataframe tbody tr th {\n",
       "        vertical-align: top;\n",
       "    }\n",
       "\n",
       "    .dataframe thead th {\n",
       "        text-align: right;\n",
       "    }\n",
       "</style>\n",
       "<table border=\"1\" class=\"dataframe\">\n",
       "  <thead>\n",
       "    <tr style=\"text-align: right;\">\n",
       "      <th></th>\n",
       "      <th>Year</th>\n",
       "      <th>PF/Game_Favorite</th>\n",
       "      <th>PF/Game_Underdog</th>\n",
       "    </tr>\n",
       "  </thead>\n",
       "  <tbody>\n",
       "    <tr>\n",
       "      <th>568</th>\n",
       "      <td>2002</td>\n",
       "      <td>NaN</td>\n",
       "      <td>NaN</td>\n",
       "    </tr>\n",
       "    <tr>\n",
       "      <th>569</th>\n",
       "      <td>2002</td>\n",
       "      <td>NaN</td>\n",
       "      <td>NaN</td>\n",
       "    </tr>\n",
       "    <tr>\n",
       "      <th>570</th>\n",
       "      <td>2002</td>\n",
       "      <td>NaN</td>\n",
       "      <td>NaN</td>\n",
       "    </tr>\n",
       "    <tr>\n",
       "      <th>571</th>\n",
       "      <td>2002</td>\n",
       "      <td>NaN</td>\n",
       "      <td>NaN</td>\n",
       "    </tr>\n",
       "    <tr>\n",
       "      <th>572</th>\n",
       "      <td>2002</td>\n",
       "      <td>NaN</td>\n",
       "      <td>NaN</td>\n",
       "    </tr>\n",
       "    <tr>\n",
       "      <th>...</th>\n",
       "      <td>...</td>\n",
       "      <td>...</td>\n",
       "      <td>...</td>\n",
       "    </tr>\n",
       "    <tr>\n",
       "      <th>627</th>\n",
       "      <td>2002</td>\n",
       "      <td>NaN</td>\n",
       "      <td>NaN</td>\n",
       "    </tr>\n",
       "    <tr>\n",
       "      <th>628</th>\n",
       "      <td>2002</td>\n",
       "      <td>NaN</td>\n",
       "      <td>NaN</td>\n",
       "    </tr>\n",
       "    <tr>\n",
       "      <th>629</th>\n",
       "      <td>2002</td>\n",
       "      <td>NaN</td>\n",
       "      <td>NaN</td>\n",
       "    </tr>\n",
       "    <tr>\n",
       "      <th>630</th>\n",
       "      <td>2002</td>\n",
       "      <td>NaN</td>\n",
       "      <td>NaN</td>\n",
       "    </tr>\n",
       "    <tr>\n",
       "      <th>631</th>\n",
       "      <td>2002</td>\n",
       "      <td>NaN</td>\n",
       "      <td>NaN</td>\n",
       "    </tr>\n",
       "  </tbody>\n",
       "</table>\n",
       "<p>64 rows × 3 columns</p>\n",
       "</div>"
      ],
      "text/plain": [
       "     Year  PF/Game_Favorite  PF/Game_Underdog\n",
       "568  2002               NaN               NaN\n",
       "569  2002               NaN               NaN\n",
       "570  2002               NaN               NaN\n",
       "571  2002               NaN               NaN\n",
       "572  2002               NaN               NaN\n",
       "..    ...               ...               ...\n",
       "627  2002               NaN               NaN\n",
       "628  2002               NaN               NaN\n",
       "629  2002               NaN               NaN\n",
       "630  2002               NaN               NaN\n",
       "631  2002               NaN               NaN\n",
       "\n",
       "[64 rows x 3 columns]"
      ]
     },
     "metadata": {},
     "output_type": "display_data"
    },
    {
     "data": {
      "text/plain": [
       "(None, None)"
      ]
     },
     "execution_count": 10,
     "metadata": {},
     "output_type": "execute_result"
    }
   ],
   "source": [
    "tov_nulls_rows = fetch.get_null_rows(tov_null_fills, mm_matchups_df)\n",
    "pf_nulls_rows = fetch.get_null_rows(pf_null_fills, mm_matchups_df)\n",
    "\n",
    "display(tov_nulls_rows), display(pf_nulls_rows)"
   ]
  },
  {
   "cell_type": "markdown",
   "metadata": {},
   "source": [
    "### What are the Distributions of the Features We Wish to Impute?"
   ]
  },
  {
   "cell_type": "code",
   "execution_count": 11,
   "metadata": {},
   "outputs": [
    {
     "name": "stdout",
     "output_type": "stream",
     "text": [
      "1993 feature distributions\n",
      "2000 feature distributions\n"
     ]
    },
    {
     "data": {
      "image/png": "[encoded data removed]",
      "text/plain": [
       "<Figure size 720x360 with 8 Axes>"
      ]
     },
     "metadata": {
      "needs_background": "light"
     },
     "output_type": "display_data"
    },
    {
     "data": {
      "image/png": "[encoded data removed]",
      "text/plain": [
       "<Figure size 720x360 with 8 Axes>"
      ]
     },
     "metadata": {
      "needs_background": "light"
     },
     "output_type": "display_data"
    }
   ],
   "source": [
    "tov_null_years = sorted(list(set(tov_nulls_rows['Year'])))\n",
    "\n",
    "for year in tov_null_years:\n",
    "    print(f\"{year} feature distributions\")\n",
    "    year_df = mm_matchups_df[mm_matchups_df['Year'] == year]\n",
    "    year_df[tov_null_fills].hist(figsize=(10, 5), layout=(len(tov_null_years), len(tov_null_fills)))"
   ]
  },
  {
   "cell_type": "code",
   "execution_count": 12,
   "metadata": {},
   "outputs": [
    {
     "data": {
      "text/plain": [
       "array([[<AxesSubplot:title={'center':'PF/Game_Favorite'}>,\n",
       "        <AxesSubplot:title={'center':'PF/Game_Underdog'}>]], dtype=object)"
      ]
     },
     "execution_count": 12,
     "metadata": {},
     "output_type": "execute_result"
    },
    {
     "data": {
      "image/png": "[encoded data removed]",
      "text/plain": [
       "<Figure size 720x360 with 2 Axes>"
      ]
     },
     "metadata": {
      "needs_background": "light"
     },
     "output_type": "display_data"
    }
   ],
   "source": [
    "mm_matchups_df[pf_null_fills].hist(figsize=(10, 5), layout=(1, len(pf_null_fills)))"
   ]
  },
  {
   "cell_type": "markdown",
   "metadata": {},
   "source": [
    "### Impute TOV Nulls by Season"
   ]
  },
  {
   "cell_type": "code",
   "execution_count": 13,
   "metadata": {
    "scrolled": false
   },
   "outputs": [
    {
     "data": {
      "text/html": [
       "<div>\n",
       "<style scoped>\n",
       "    .dataframe tbody tr th:only-of-type {\n",
       "        vertical-align: middle;\n",
       "    }\n",
       "\n",
       "    .dataframe tbody tr th {\n",
       "        vertical-align: top;\n",
       "    }\n",
       "\n",
       "    .dataframe thead th {\n",
       "        text-align: right;\n",
       "    }\n",
       "</style>\n",
       "<table border=\"1\" class=\"dataframe\">\n",
       "  <thead>\n",
       "    <tr style=\"text-align: right;\">\n",
       "      <th></th>\n",
       "      <th>TOV/Game_Underdog</th>\n",
       "      <th>TOV%_Underdog</th>\n",
       "      <th>TOV/Game_Favorite</th>\n",
       "      <th>TOV%_Favorite</th>\n",
       "    </tr>\n",
       "    <tr>\n",
       "      <th>Year</th>\n",
       "      <th></th>\n",
       "      <th></th>\n",
       "      <th></th>\n",
       "      <th></th>\n",
       "    </tr>\n",
       "  </thead>\n",
       "  <tbody>\n",
       "    <tr>\n",
       "      <th>1993</th>\n",
       "      <td>14.909836</td>\n",
       "      <td>17.281967</td>\n",
       "      <td>14.787097</td>\n",
       "      <td>17.066129</td>\n",
       "    </tr>\n",
       "    <tr>\n",
       "      <th>2000</th>\n",
       "      <td>14.916129</td>\n",
       "      <td>18.106452</td>\n",
       "      <td>14.520635</td>\n",
       "      <td>17.384127</td>\n",
       "    </tr>\n",
       "  </tbody>\n",
       "</table>\n",
       "</div>"
      ],
      "text/plain": [
       "      TOV/Game_Underdog  TOV%_Underdog  TOV/Game_Favorite  TOV%_Favorite\n",
       "Year                                                                    \n",
       "1993          14.909836      17.281967          14.787097      17.066129\n",
       "2000          14.916129      18.106452          14.520635      17.384127"
      ]
     },
     "execution_count": 13,
     "metadata": {},
     "output_type": "execute_result"
    }
   ],
   "source": [
    "tov_col_means = mm_matchups_df[tov_nulls_rows.columns].groupby('Year').mean()\n",
    "tov_col_means.loc[tov_null_years]"
   ]
  },
  {
   "cell_type": "code",
   "execution_count": 14,
   "metadata": {},
   "outputs": [
    {
     "data": {
      "text/html": [
       "<div>\n",
       "<style scoped>\n",
       "    .dataframe tbody tr th:only-of-type {\n",
       "        vertical-align: middle;\n",
       "    }\n",
       "\n",
       "    .dataframe tbody tr th {\n",
       "        vertical-align: top;\n",
       "    }\n",
       "\n",
       "    .dataframe thead th {\n",
       "        text-align: right;\n",
       "    }\n",
       "</style>\n",
       "<table border=\"1\" class=\"dataframe\">\n",
       "  <thead>\n",
       "    <tr style=\"text-align: right;\">\n",
       "      <th></th>\n",
       "      <th>TOV/Game_Underdog</th>\n",
       "      <th>TOV%_Underdog</th>\n",
       "      <th>TOV/Game_Favorite</th>\n",
       "      <th>TOV%_Favorite</th>\n",
       "    </tr>\n",
       "  </thead>\n",
       "  <tbody>\n",
       "    <tr>\n",
       "      <th>15</th>\n",
       "      <td>14.9</td>\n",
       "      <td>17.3</td>\n",
       "      <td>15.6</td>\n",
       "      <td>17.4</td>\n",
       "    </tr>\n",
       "    <tr>\n",
       "      <th>16</th>\n",
       "      <td>14.9</td>\n",
       "      <td>17.3</td>\n",
       "      <td>12.0</td>\n",
       "      <td>15.9</td>\n",
       "    </tr>\n",
       "    <tr>\n",
       "      <th>42</th>\n",
       "      <td>17.8</td>\n",
       "      <td>16.6</td>\n",
       "      <td>14.8</td>\n",
       "      <td>17.1</td>\n",
       "    </tr>\n",
       "    <tr>\n",
       "      <th>470</th>\n",
       "      <td>14.9</td>\n",
       "      <td>18.1</td>\n",
       "      <td>15.8</td>\n",
       "      <td>17.8</td>\n",
       "    </tr>\n",
       "  </tbody>\n",
       "</table>\n",
       "</div>"
      ],
      "text/plain": [
       "     TOV/Game_Underdog  TOV%_Underdog  TOV/Game_Favorite  TOV%_Favorite\n",
       "15                14.9           17.3               15.6           17.4\n",
       "16                14.9           17.3               12.0           15.9\n",
       "42                17.8           16.6               14.8           17.1\n",
       "470               14.9           18.1               15.8           17.8"
      ]
     },
     "execution_count": 14,
     "metadata": {},
     "output_type": "execute_result"
    }
   ],
   "source": [
    "for year in tov_null_years:\n",
    "    for col in tov_null_fills:\n",
    "        col_fill_rows = tov_nulls_rows[tov_nulls_rows['Year'] == year].index\n",
    "        col_year_mean = np.round(tov_col_means.loc[year, col], 1)\n",
    "        \n",
    "        mm_matchups_df.loc[col_fill_rows, col] = mm_matchups_df.loc[col_fill_rows, col].fillna(col_year_mean)\n",
    "        \n",
    "mm_matchups_df.loc[tov_nulls_rows.index, tov_null_fills]"
   ]
  },
  {
   "cell_type": "markdown",
   "metadata": {},
   "source": [
    "### Impute PF Nulls Using Entire Distribution"
   ]
  },
  {
   "cell_type": "code",
   "execution_count": 15,
   "metadata": {},
   "outputs": [
    {
     "data": {
      "text/plain": [
       "PF/Game_Favorite    17.634759\n",
       "PF/Game_Underdog    18.108200\n",
       "dtype: float64"
      ]
     },
     "execution_count": 15,
     "metadata": {},
     "output_type": "execute_result"
    }
   ],
   "source": [
    "pf_col_means = mm_matchups_df[pf_null_fills].mean()\n",
    "pf_col_means"
   ]
  },
  {
   "cell_type": "code",
   "execution_count": 16,
   "metadata": {
    "scrolled": true
   },
   "outputs": [
    {
     "data": {
      "text/html": [
       "<div>\n",
       "<style scoped>\n",
       "    .dataframe tbody tr th:only-of-type {\n",
       "        vertical-align: middle;\n",
       "    }\n",
       "\n",
       "    .dataframe tbody tr th {\n",
       "        vertical-align: top;\n",
       "    }\n",
       "\n",
       "    .dataframe thead th {\n",
       "        text-align: right;\n",
       "    }\n",
       "</style>\n",
       "<table border=\"1\" class=\"dataframe\">\n",
       "  <thead>\n",
       "    <tr style=\"text-align: right;\">\n",
       "      <th></th>\n",
       "      <th>PF/Game_Favorite</th>\n",
       "      <th>PF/Game_Underdog</th>\n",
       "    </tr>\n",
       "  </thead>\n",
       "  <tbody>\n",
       "    <tr>\n",
       "      <th>568</th>\n",
       "      <td>17.6</td>\n",
       "      <td>18.1</td>\n",
       "    </tr>\n",
       "    <tr>\n",
       "      <th>569</th>\n",
       "      <td>17.6</td>\n",
       "      <td>18.1</td>\n",
       "    </tr>\n",
       "    <tr>\n",
       "      <th>570</th>\n",
       "      <td>17.6</td>\n",
       "      <td>18.1</td>\n",
       "    </tr>\n",
       "    <tr>\n",
       "      <th>571</th>\n",
       "      <td>17.6</td>\n",
       "      <td>18.1</td>\n",
       "    </tr>\n",
       "    <tr>\n",
       "      <th>572</th>\n",
       "      <td>17.6</td>\n",
       "      <td>18.1</td>\n",
       "    </tr>\n",
       "    <tr>\n",
       "      <th>...</th>\n",
       "      <td>...</td>\n",
       "      <td>...</td>\n",
       "    </tr>\n",
       "    <tr>\n",
       "      <th>627</th>\n",
       "      <td>17.6</td>\n",
       "      <td>18.1</td>\n",
       "    </tr>\n",
       "    <tr>\n",
       "      <th>628</th>\n",
       "      <td>17.6</td>\n",
       "      <td>18.1</td>\n",
       "    </tr>\n",
       "    <tr>\n",
       "      <th>629</th>\n",
       "      <td>17.6</td>\n",
       "      <td>18.1</td>\n",
       "    </tr>\n",
       "    <tr>\n",
       "      <th>630</th>\n",
       "      <td>17.6</td>\n",
       "      <td>18.1</td>\n",
       "    </tr>\n",
       "    <tr>\n",
       "      <th>631</th>\n",
       "      <td>17.6</td>\n",
       "      <td>18.1</td>\n",
       "    </tr>\n",
       "  </tbody>\n",
       "</table>\n",
       "<p>64 rows × 2 columns</p>\n",
       "</div>"
      ],
      "text/plain": [
       "     PF/Game_Favorite  PF/Game_Underdog\n",
       "568              17.6              18.1\n",
       "569              17.6              18.1\n",
       "570              17.6              18.1\n",
       "571              17.6              18.1\n",
       "572              17.6              18.1\n",
       "..                ...               ...\n",
       "627              17.6              18.1\n",
       "628              17.6              18.1\n",
       "629              17.6              18.1\n",
       "630              17.6              18.1\n",
       "631              17.6              18.1\n",
       "\n",
       "[64 rows x 2 columns]"
      ]
     },
     "execution_count": 16,
     "metadata": {},
     "output_type": "execute_result"
    }
   ],
   "source": [
    "for col in pf_null_fills:\n",
    "    col_mean = np.round(mm_matchups_df[col].mean(), 1)\n",
    "    mm_matchups_df[col].fillna(col_mean, inplace=True)\n",
    "    \n",
    "mm_matchups_df.loc[pf_nulls_rows.index, pf_null_fills]"
   ]
  },
  {
   "cell_type": "markdown",
   "metadata": {},
   "source": [
    "# Exploratory Data Analysis (EDA)\n",
    "\n",
    "As any good data scientist should do, there are a few questions I hope to address in my EDA"
   ]
  },
  {
   "cell_type": "markdown",
   "metadata": {},
   "source": [
    "## What is a Bracket's Accuracy Given Random Guessing in Favor of the Majority Class (Base Rate: Favorite Beats Underdog)?"
   ]
  },
  {
   "cell_type": "code",
   "execution_count": 17,
   "metadata": {},
   "outputs": [
    {
     "data": {
      "image/png": "[encoded data removed]",
      "text/plain": [
       "<Figure size 648x432 with 1 Axes>"
      ]
     },
     "metadata": {
      "needs_background": "light"
     },
     "output_type": "display_data"
    }
   ],
   "source": [
    "yearly_base_rates = get_yearly_base_rates(mm_matchups_df)\n",
    "mean_base_rate = np.round(yearly_base_rates.mean(), 3)\n",
    "\n",
    "years_ma = 2\n",
    "base_rate_ma = np.round(yearly_base_rates.rolling(years_ma).mean(), 3)\n",
    "\n",
    "plt.figure(figsize=(9, 6))\n",
    "\n",
    "plt.plot(yearly_base_rates.index, [mean_base_rate] * len(yearly_base_rates), color='k', linewidth=3, label=f'Mean ({mean_base_rate})')\n",
    "plt.plot(yearly_base_rates.index, base_rate_ma, color='r', linewidth=3, label=f'{years_ma}-Yr MA')\n",
    "plt.bar(yearly_base_rates.index, yearly_base_rates)\n",
    "\n",
    "format_plot(title='Dataset Base Rate Trends', xlabel='Season', ylabel='Base Rate')"
   ]
  },
  {
   "cell_type": "markdown",
   "metadata": {},
   "source": [
    "## How Often Do Upsets Occur in a Given Year's March Madness? "
   ]
  },
  {
   "cell_type": "code",
   "execution_count": 18,
   "metadata": {},
   "outputs": [
    {
     "data": {
      "image/png": "[encoded data removed]",
      "text/plain": [
       "<Figure size 648x432 with 1 Axes>"
      ]
     },
     "metadata": {
      "needs_background": "light"
     },
     "output_type": "display_data"
    }
   ],
   "source": [
    "yearly_upsets = mm_matchups_df.groupby('Year').agg({'Underdog_Upset': ['sum', 'count']})\n",
    "yearly_pct_upsets = yearly_upsets[('Underdog_Upset', 'sum')] / yearly_upsets[('Underdog_Upset', 'count')]\n",
    "\n",
    "pct_upsets_ma = yearly_pct_upsets.rolling(years_ma).mean()\n",
    "mean_pct_upsets = np.round(yearly_pct_upsets.mean(), 3)\n",
    "\n",
    "plt.figure(figsize=(9, 6))\n",
    "\n",
    "plt.plot(yearly_pct_upsets.index, [mean_pct_upsets] * len(yearly_pct_upsets), color='k', linewidth=3, \n",
    "         label=f'Mean ({mean_pct_upsets})')\n",
    "plt.plot(yearly_pct_upsets.index, pct_upsets_ma, color='r', linewidth=3, label=f'{years_ma}-Yr MA')\n",
    "plt.bar(yearly_pct_upsets.index, yearly_pct_upsets)\n",
    "\n",
    "format_plot(title='Dataset Upsets Volume Trends', xlabel='Season', ylabel='Upsets (% of Games)')"
   ]
  },
  {
   "cell_type": "markdown",
   "metadata": {},
   "source": [
    "## What is the Distribution of Upsets Across Each Tournament Round?"
   ]
  },
  {
   "cell_type": "code",
   "execution_count": 19,
   "metadata": {},
   "outputs": [],
   "source": [
    "seed_pairs = get_seed_pairs(mm_matchups_df)"
   ]
  },
  {
   "cell_type": "code",
   "execution_count": 20,
   "metadata": {},
   "outputs": [
    {
     "data": {
      "image/png": "[encoded data removed]",
      "text/plain": [
       "<Figure size 648x432 with 1 Axes>"
      ]
     },
     "metadata": {
      "needs_background": "light"
     },
     "output_type": "display_data"
    }
   ],
   "source": [
    "upset_pairs = seed_pairs[seed_pairs['Underdog_Upset'] == 1]\n",
    "upset_rounds_freq = upset_pairs['Round'].value_counts(normalize=True)\n",
    "upset_rounds_freq.plot(figsize=(9, 6), kind='bar', rot=15)\n",
    "\n",
    "format_plot(title='Dataset Upset Volumes by Round', xlabel='Round', ylabel='% of Upsets')"
   ]
  },
  {
   "cell_type": "markdown",
   "metadata": {},
   "source": [
    "## Which Seeding Combinations are the Most Likely to Produce Upsets?"
   ]
  },
  {
   "cell_type": "code",
   "execution_count": 21,
   "metadata": {},
   "outputs": [
    {
     "data": {
      "image/png": "[encoded data removed]",
      "text/plain": [
       "<Figure size 648x432 with 1 Axes>"
      ]
     },
     "metadata": {
      "needs_background": "light"
     },
     "output_type": "display_data"
    }
   ],
   "source": [
    "upset_pairs_freq = np.round(upset_pairs['Pairs'].value_counts(normalize=True)[:25], 3)\n",
    "upset_pairs_freq.plot(figsize=(9, 6), kind='bar', rot=35)\n",
    "\n",
    "format_plot(title='Dataset Upset Volumes by Seed Combo', xlabel='Seed Combo', ylabel='% of Upsets')"
   ]
  },
  {
   "cell_type": "markdown",
   "metadata": {},
   "source": [
    "# Feature Engineering & Analysis"
   ]
  },
  {
   "cell_type": "code",
   "execution_count": 22,
   "metadata": {
    "scrolled": true
   },
   "outputs": [
    {
     "data": {
      "text/html": [
       "<div>\n",
       "<style scoped>\n",
       "    .dataframe tbody tr th:only-of-type {\n",
       "        vertical-align: middle;\n",
       "    }\n",
       "\n",
       "    .dataframe tbody tr th {\n",
       "        vertical-align: top;\n",
       "    }\n",
       "\n",
       "    .dataframe thead th {\n",
       "        text-align: right;\n",
       "    }\n",
       "</style>\n",
       "<table border=\"1\" class=\"dataframe\">\n",
       "  <thead>\n",
       "    <tr style=\"text-align: right;\">\n",
       "      <th></th>\n",
       "      <th>Round</th>\n",
       "      <th>Seed_Favorite</th>\n",
       "      <th>Seed_Underdog</th>\n",
       "      <th>Underdog_Rel_TOV/Game</th>\n",
       "      <th>Underdog_Rel_FG%</th>\n",
       "      <th>Underdog_Rel_MM</th>\n",
       "      <th>Underdog_Rel_STL/Game</th>\n",
       "      <th>Underdog_Rel_AST/Game</th>\n",
       "      <th>Underdog_Rel_SOS</th>\n",
       "      <th>Underdog_Rel_W-L%</th>\n",
       "      <th>...</th>\n",
       "      <th>Underdog_Rel_G</th>\n",
       "      <th>Underdog_Rel_S16</th>\n",
       "      <th>Underdog_Rel_TS%</th>\n",
       "      <th>Underdog_Rel_FT/Game</th>\n",
       "      <th>Underdog_Rel_PF/Game</th>\n",
       "      <th>Underdog_Rel_3P%</th>\n",
       "      <th>Underdog_Rel_FG/Game</th>\n",
       "      <th>Underdog_Rel_PtsDiff</th>\n",
       "      <th>Underdog_Rel_BLK%</th>\n",
       "      <th>Underdog_Rel_Champs</th>\n",
       "    </tr>\n",
       "  </thead>\n",
       "  <tbody>\n",
       "    <tr>\n",
       "      <th>0</th>\n",
       "      <td>3.413099</td>\n",
       "      <td>-0.955849</td>\n",
       "      <td>-2.254069</td>\n",
       "      <td>0.009212</td>\n",
       "      <td>0.082917</td>\n",
       "      <td>-1.586351</td>\n",
       "      <td>-1.258251</td>\n",
       "      <td>-0.485347</td>\n",
       "      <td>0.820602</td>\n",
       "      <td>0.365335</td>\n",
       "      <td>...</td>\n",
       "      <td>-0.258614</td>\n",
       "      <td>-2.199983</td>\n",
       "      <td>-0.265956</td>\n",
       "      <td>-0.818446</td>\n",
       "      <td>0.930980</td>\n",
       "      <td>-0.439580</td>\n",
       "      <td>0.159188</td>\n",
       "      <td>-0.736854</td>\n",
       "      <td>0.973683</td>\n",
       "      <td>-0.602478</td>\n",
       "    </tr>\n",
       "    <tr>\n",
       "      <th>1</th>\n",
       "      <td>2.589752</td>\n",
       "      <td>-0.955849</td>\n",
       "      <td>-2.254069</td>\n",
       "      <td>-0.279038</td>\n",
       "      <td>0.926045</td>\n",
       "      <td>0.516262</td>\n",
       "      <td>-1.308877</td>\n",
       "      <td>-0.967955</td>\n",
       "      <td>1.152156</td>\n",
       "      <td>0.474286</td>\n",
       "      <td>...</td>\n",
       "      <td>1.133677</td>\n",
       "      <td>0.536851</td>\n",
       "      <td>-0.538374</td>\n",
       "      <td>-0.213645</td>\n",
       "      <td>-1.871262</td>\n",
       "      <td>-1.026308</td>\n",
       "      <td>0.613090</td>\n",
       "      <td>-0.718710</td>\n",
       "      <td>0.465316</td>\n",
       "      <td>1.330541</td>\n",
       "    </tr>\n",
       "    <tr>\n",
       "      <th>2</th>\n",
       "      <td>2.589752</td>\n",
       "      <td>-0.955849</td>\n",
       "      <td>-2.002255</td>\n",
       "      <td>-0.519246</td>\n",
       "      <td>0.634193</td>\n",
       "      <td>-1.586351</td>\n",
       "      <td>-0.093835</td>\n",
       "      <td>0.640738</td>\n",
       "      <td>0.654825</td>\n",
       "      <td>-0.095609</td>\n",
       "      <td>...</td>\n",
       "      <td>-0.258614</td>\n",
       "      <td>-2.371035</td>\n",
       "      <td>0.944793</td>\n",
       "      <td>-0.100245</td>\n",
       "      <td>0.530659</td>\n",
       "      <td>1.107248</td>\n",
       "      <td>-0.050305</td>\n",
       "      <td>0.097796</td>\n",
       "      <td>-0.337370</td>\n",
       "      <td>-1.568988</td>\n",
       "    </tr>\n",
       "    <tr>\n",
       "      <th>3</th>\n",
       "      <td>1.766404</td>\n",
       "      <td>-0.955849</td>\n",
       "      <td>-2.002255</td>\n",
       "      <td>0.633754</td>\n",
       "      <td>0.115345</td>\n",
       "      <td>-0.922368</td>\n",
       "      <td>1.526222</td>\n",
       "      <td>0.922259</td>\n",
       "      <td>0.681087</td>\n",
       "      <td>-0.020182</td>\n",
       "      <td>...</td>\n",
       "      <td>0.785604</td>\n",
       "      <td>-1.344722</td>\n",
       "      <td>0.036731</td>\n",
       "      <td>-0.818446</td>\n",
       "      <td>0.490627</td>\n",
       "      <td>-0.306233</td>\n",
       "      <td>0.438512</td>\n",
       "      <td>0.623988</td>\n",
       "      <td>0.411803</td>\n",
       "      <td>-2.535498</td>\n",
       "    </tr>\n",
       "    <tr>\n",
       "      <th>4</th>\n",
       "      <td>1.766404</td>\n",
       "      <td>-0.955849</td>\n",
       "      <td>-2.002255</td>\n",
       "      <td>-0.711413</td>\n",
       "      <td>-0.825067</td>\n",
       "      <td>-1.697015</td>\n",
       "      <td>0.361806</td>\n",
       "      <td>-0.605999</td>\n",
       "      <td>-0.044393</td>\n",
       "      <td>0.222862</td>\n",
       "      <td>...</td>\n",
       "      <td>-1.650904</td>\n",
       "      <td>-2.371035</td>\n",
       "      <td>-0.871330</td>\n",
       "      <td>-1.461047</td>\n",
       "      <td>0.890947</td>\n",
       "      <td>-1.186325</td>\n",
       "      <td>-0.993023</td>\n",
       "      <td>0.333675</td>\n",
       "      <td>-0.123320</td>\n",
       "      <td>-1.568988</td>\n",
       "    </tr>\n",
       "    <tr>\n",
       "      <th>...</th>\n",
       "      <td>...</td>\n",
       "      <td>...</td>\n",
       "      <td>...</td>\n",
       "      <td>...</td>\n",
       "      <td>...</td>\n",
       "      <td>...</td>\n",
       "      <td>...</td>\n",
       "      <td>...</td>\n",
       "      <td>...</td>\n",
       "      <td>...</td>\n",
       "      <td>...</td>\n",
       "      <td>...</td>\n",
       "      <td>...</td>\n",
       "      <td>...</td>\n",
       "      <td>...</td>\n",
       "      <td>...</td>\n",
       "      <td>...</td>\n",
       "      <td>...</td>\n",
       "      <td>...</td>\n",
       "      <td>...</td>\n",
       "      <td>...</td>\n",
       "    </tr>\n",
       "    <tr>\n",
       "      <th>1742</th>\n",
       "      <td>-0.703640</td>\n",
       "      <td>0.751932</td>\n",
       "      <td>0.264065</td>\n",
       "      <td>-0.855538</td>\n",
       "      <td>1.931313</td>\n",
       "      <td>0.405599</td>\n",
       "      <td>1.222461</td>\n",
       "      <td>2.933125</td>\n",
       "      <td>-1.367326</td>\n",
       "      <td>1.840359</td>\n",
       "      <td>...</td>\n",
       "      <td>0.089459</td>\n",
       "      <td>0.194747</td>\n",
       "      <td>1.883124</td>\n",
       "      <td>0.050955</td>\n",
       "      <td>-0.229949</td>\n",
       "      <td>0.760545</td>\n",
       "      <td>2.638188</td>\n",
       "      <td>1.948542</td>\n",
       "      <td>-0.872494</td>\n",
       "      <td>0.364032</td>\n",
       "    </tr>\n",
       "    <tr>\n",
       "      <th>1743</th>\n",
       "      <td>-0.703640</td>\n",
       "      <td>0.751932</td>\n",
       "      <td>0.264065</td>\n",
       "      <td>0.681796</td>\n",
       "      <td>-0.144079</td>\n",
       "      <td>0.516262</td>\n",
       "      <td>-0.448222</td>\n",
       "      <td>-0.887520</td>\n",
       "      <td>1.276899</td>\n",
       "      <td>-1.134831</td>\n",
       "      <td>...</td>\n",
       "      <td>-0.258614</td>\n",
       "      <td>0.536851</td>\n",
       "      <td>-0.265956</td>\n",
       "      <td>1.298357</td>\n",
       "      <td>0.450595</td>\n",
       "      <td>0.120478</td>\n",
       "      <td>-0.888276</td>\n",
       "      <td>-1.045312</td>\n",
       "      <td>0.144241</td>\n",
       "      <td>0.364032</td>\n",
       "    </tr>\n",
       "    <tr>\n",
       "      <th>1744</th>\n",
       "      <td>-1.526987</td>\n",
       "      <td>2.459712</td>\n",
       "      <td>0.264065</td>\n",
       "      <td>-0.230996</td>\n",
       "      <td>-1.635767</td>\n",
       "      <td>1.512237</td>\n",
       "      <td>1.019954</td>\n",
       "      <td>-1.691867</td>\n",
       "      <td>1.951497</td>\n",
       "      <td>-0.363796</td>\n",
       "      <td>...</td>\n",
       "      <td>0.437531</td>\n",
       "      <td>0.536851</td>\n",
       "      <td>-1.809661</td>\n",
       "      <td>0.504556</td>\n",
       "      <td>0.690787</td>\n",
       "      <td>-0.972969</td>\n",
       "      <td>-1.377093</td>\n",
       "      <td>-1.117890</td>\n",
       "      <td>-0.497907</td>\n",
       "      <td>0.364032</td>\n",
       "    </tr>\n",
       "    <tr>\n",
       "      <th>1745</th>\n",
       "      <td>-1.526987</td>\n",
       "      <td>4.167492</td>\n",
       "      <td>1.523132</td>\n",
       "      <td>2.075005</td>\n",
       "      <td>0.374769</td>\n",
       "      <td>0.737590</td>\n",
       "      <td>0.817447</td>\n",
       "      <td>1.967909</td>\n",
       "      <td>-0.789569</td>\n",
       "      <td>0.532952</td>\n",
       "      <td>...</td>\n",
       "      <td>0.089459</td>\n",
       "      <td>0.536851</td>\n",
       "      <td>-0.659449</td>\n",
       "      <td>0.126556</td>\n",
       "      <td>1.011044</td>\n",
       "      <td>-1.079647</td>\n",
       "      <td>0.648005</td>\n",
       "      <td>1.458638</td>\n",
       "      <td>0.518828</td>\n",
       "      <td>0.364032</td>\n",
       "    </tr>\n",
       "    <tr>\n",
       "      <th>1746</th>\n",
       "      <td>-1.526987</td>\n",
       "      <td>2.459712</td>\n",
       "      <td>0.264065</td>\n",
       "      <td>-1.672247</td>\n",
       "      <td>0.439625</td>\n",
       "      <td>0.294935</td>\n",
       "      <td>1.374342</td>\n",
       "      <td>0.520086</td>\n",
       "      <td>0.626922</td>\n",
       "      <td>0.164196</td>\n",
       "      <td>...</td>\n",
       "      <td>0.437531</td>\n",
       "      <td>0.536851</td>\n",
       "      <td>0.430225</td>\n",
       "      <td>-1.536647</td>\n",
       "      <td>-0.510173</td>\n",
       "      <td>0.707206</td>\n",
       "      <td>0.892413</td>\n",
       "      <td>0.315531</td>\n",
       "      <td>0.331535</td>\n",
       "      <td>0.364032</td>\n",
       "    </tr>\n",
       "  </tbody>\n",
       "</table>\n",
       "<p>1747 rows × 33 columns</p>\n",
       "</div>"
      ],
      "text/plain": [
       "         Round  Seed_Favorite  Seed_Underdog  Underdog_Rel_TOV/Game  \\\n",
       "0     3.413099      -0.955849      -2.254069               0.009212   \n",
       "1     2.589752      -0.955849      -2.254069              -0.279038   \n",
       "2     2.589752      -0.955849      -2.002255              -0.519246   \n",
       "3     1.766404      -0.955849      -2.002255               0.633754   \n",
       "4     1.766404      -0.955849      -2.002255              -0.711413   \n",
       "...        ...            ...            ...                    ...   \n",
       "1742 -0.703640       0.751932       0.264065              -0.855538   \n",
       "1743 -0.703640       0.751932       0.264065               0.681796   \n",
       "1744 -1.526987       2.459712       0.264065              -0.230996   \n",
       "1745 -1.526987       4.167492       1.523132               2.075005   \n",
       "1746 -1.526987       2.459712       0.264065              -1.672247   \n",
       "\n",
       "      Underdog_Rel_FG%  Underdog_Rel_MM  Underdog_Rel_STL/Game  \\\n",
       "0             0.082917        -1.586351              -1.258251   \n",
       "1             0.926045         0.516262              -1.308877   \n",
       "2             0.634193        -1.586351              -0.093835   \n",
       "3             0.115345        -0.922368               1.526222   \n",
       "4            -0.825067        -1.697015               0.361806   \n",
       "...                ...              ...                    ...   \n",
       "1742          1.931313         0.405599               1.222461   \n",
       "1743         -0.144079         0.516262              -0.448222   \n",
       "1744         -1.635767         1.512237               1.019954   \n",
       "1745          0.374769         0.737590               0.817447   \n",
       "1746          0.439625         0.294935               1.374342   \n",
       "\n",
       "      Underdog_Rel_AST/Game  Underdog_Rel_SOS  Underdog_Rel_W-L%  ...  \\\n",
       "0                 -0.485347          0.820602           0.365335  ...   \n",
       "1                 -0.967955          1.152156           0.474286  ...   \n",
       "2                  0.640738          0.654825          -0.095609  ...   \n",
       "3                  0.922259          0.681087          -0.020182  ...   \n",
       "4                 -0.605999         -0.044393           0.222862  ...   \n",
       "...                     ...               ...                ...  ...   \n",
       "1742               2.933125         -1.367326           1.840359  ...   \n",
       "1743              -0.887520          1.276899          -1.134831  ...   \n",
       "1744              -1.691867          1.951497          -0.363796  ...   \n",
       "1745               1.967909         -0.789569           0.532952  ...   \n",
       "1746               0.520086          0.626922           0.164196  ...   \n",
       "\n",
       "      Underdog_Rel_G  Underdog_Rel_S16  Underdog_Rel_TS%  \\\n",
       "0          -0.258614         -2.199983         -0.265956   \n",
       "1           1.133677          0.536851         -0.538374   \n",
       "2          -0.258614         -2.371035          0.944793   \n",
       "3           0.785604         -1.344722          0.036731   \n",
       "4          -1.650904         -2.371035         -0.871330   \n",
       "...              ...               ...               ...   \n",
       "1742        0.089459          0.194747          1.883124   \n",
       "1743       -0.258614          0.536851         -0.265956   \n",
       "1744        0.437531          0.536851         -1.809661   \n",
       "1745        0.089459          0.536851         -0.659449   \n",
       "1746        0.437531          0.536851          0.430225   \n",
       "\n",
       "      Underdog_Rel_FT/Game  Underdog_Rel_PF/Game  Underdog_Rel_3P%  \\\n",
       "0                -0.818446              0.930980         -0.439580   \n",
       "1                -0.213645             -1.871262         -1.026308   \n",
       "2                -0.100245              0.530659          1.107248   \n",
       "3                -0.818446              0.490627         -0.306233   \n",
       "4                -1.461047              0.890947         -1.186325   \n",
       "...                    ...                   ...               ...   \n",
       "1742              0.050955             -0.229949          0.760545   \n",
       "1743              1.298357              0.450595          0.120478   \n",
       "1744              0.504556              0.690787         -0.972969   \n",
       "1745              0.126556              1.011044         -1.079647   \n",
       "1746             -1.536647             -0.510173          0.707206   \n",
       "\n",
       "      Underdog_Rel_FG/Game  Underdog_Rel_PtsDiff  Underdog_Rel_BLK%  \\\n",
       "0                 0.159188             -0.736854           0.973683   \n",
       "1                 0.613090             -0.718710           0.465316   \n",
       "2                -0.050305              0.097796          -0.337370   \n",
       "3                 0.438512              0.623988           0.411803   \n",
       "4                -0.993023              0.333675          -0.123320   \n",
       "...                    ...                   ...                ...   \n",
       "1742              2.638188              1.948542          -0.872494   \n",
       "1743             -0.888276             -1.045312           0.144241   \n",
       "1744             -1.377093             -1.117890          -0.497907   \n",
       "1745              0.648005              1.458638           0.518828   \n",
       "1746              0.892413              0.315531           0.331535   \n",
       "\n",
       "      Underdog_Rel_Champs  \n",
       "0               -0.602478  \n",
       "1                1.330541  \n",
       "2               -1.568988  \n",
       "3               -2.535498  \n",
       "4               -1.568988  \n",
       "...                   ...  \n",
       "1742             0.364032  \n",
       "1743             0.364032  \n",
       "1744             0.364032  \n",
       "1745             0.364032  \n",
       "1746             0.364032  \n",
       "\n",
       "[1747 rows x 33 columns]"
      ]
     },
     "metadata": {},
     "output_type": "display_data"
    },
    {
     "data": {
      "text/plain": [
       "0       0\n",
       "1       1\n",
       "2       0\n",
       "3       1\n",
       "4       0\n",
       "       ..\n",
       "1742    0\n",
       "1743    0\n",
       "1744    0\n",
       "1745    0\n",
       "1746    0\n",
       "Name: Underdog_Upset, Length: 1747, dtype: int64"
      ]
     },
     "metadata": {},
     "output_type": "display_data"
    },
    {
     "data": {
      "text/plain": [
       "(None, None)"
      ]
     },
     "execution_count": 22,
     "metadata": {},
     "output_type": "execute_result"
    }
   ],
   "source": [
    "all_rounds = mm_matchups_df['Round']\n",
    "mm_matchups_df.drop(['Year', 'Team_Favorite', 'Team_Underdog'], axis=1, inplace=True)\n",
    "\n",
    "scaled_mm_matchups_df = feature_pipeline(mm_matchups_df)\n",
    "X = scaled_mm_matchups_df.drop('Underdog_Upset', axis=1)\n",
    "y = scaled_mm_matchups_df['Underdog_Upset']\n",
    "\n",
    "display(X), display(y)"
   ]
  },
  {
   "cell_type": "markdown",
   "metadata": {},
   "source": [
    "## What are the Distributions of all our Engineered Features?"
   ]
  },
  {
   "cell_type": "code",
   "execution_count": 23,
   "metadata": {},
   "outputs": [
    {
     "data": {
      "image/png": "[encoded data removed]",
      "text/plain": [
       "<Figure size 1080x720 with 36 Axes>"
      ]
     },
     "metadata": {
      "needs_background": "light"
     },
     "output_type": "display_data"
    }
   ],
   "source": [
    "X.hist(figsize=(15, 10))\n",
    "plt.tight_layout()"
   ]
  },
  {
   "cell_type": "markdown",
   "metadata": {},
   "source": [
    "## What are the Correlations Between Features?"
   ]
  },
  {
   "cell_type": "code",
   "execution_count": 24,
   "metadata": {},
   "outputs": [
    {
     "name": "stderr",
     "output_type": "stream",
     "text": [
      "No handles with labels found to put in legend.\n"
     ]
    },
    {
     "data": {
      "image/png": "[encoded data removed]",
      "text/plain": [
       "<Figure size 648x432 with 1 Axes>"
      ]
     },
     "metadata": {
      "needs_background": "light"
     },
     "output_type": "display_data"
    }
   ],
   "source": [
    "abs_desc_corr = np.abs(scaled_mm_matchups_df.corr().loc['Underdog_Upset']).sort_values()\n",
    "abs_desc_corr.drop('Underdog_Upset', inplace=True)\n",
    "\n",
    "plt.figure(figsize=(9, 6))\n",
    "plt.barh(abs_desc_corr.index, abs_desc_corr.values)\n",
    "\n",
    "format_plot(title='Target Variable Correlation', xlabel='Absolute Correlation Value', ylabel='Features')"
   ]
  },
  {
   "cell_type": "markdown",
   "metadata": {},
   "source": [
    "## What Features have the Greatest Predictive Power?"
   ]
  },
  {
   "cell_type": "code",
   "execution_count": 25,
   "metadata": {},
   "outputs": [
    {
     "name": "stderr",
     "output_type": "stream",
     "text": [
      "No handles with labels found to put in legend.\n"
     ]
    },
    {
     "data": {
      "image/png": "[encoded data removed]",
      "text/plain": [
       "<Figure size 648x432 with 1 Axes>"
      ]
     },
     "metadata": {
      "needs_background": "light"
     },
     "output_type": "display_data"
    }
   ],
   "source": [
    "rf = RandomForestClassifier().fit(X, y)\n",
    "\n",
    "# Sort features & their corresponding values in by importance\n",
    "importances = rf.feature_importances_\n",
    "feat_importances = X.columns[np.argsort(importances)]\n",
    "feat_values = np.sort(importances)\n",
    "\n",
    "# Plot feature importances calculated above\n",
    "plt.figure(figsize=(9, 6))\n",
    "plt.barh(feat_importances, feat_values)\n",
    "\n",
    "format_plot(title='Feature Importances', xlabel='Normalized Information Gain', ylabel='Features')"
   ]
  },
  {
   "cell_type": "markdown",
   "metadata": {},
   "source": [
    "# Model Selection"
   ]
  },
  {
   "cell_type": "code",
   "execution_count": 26,
   "metadata": {},
   "outputs": [
    {
     "data": {
      "text/html": [
       "<div>\n",
       "<style scoped>\n",
       "    .dataframe tbody tr th:only-of-type {\n",
       "        vertical-align: middle;\n",
       "    }\n",
       "\n",
       "    .dataframe tbody tr th {\n",
       "        vertical-align: top;\n",
       "    }\n",
       "\n",
       "    .dataframe thead th {\n",
       "        text-align: right;\n",
       "    }\n",
       "</style>\n",
       "<table border=\"1\" class=\"dataframe\">\n",
       "  <thead>\n",
       "    <tr style=\"text-align: right;\">\n",
       "      <th></th>\n",
       "      <th>Mean_Accuracy</th>\n",
       "      <th>Mean_Accuracy_Std</th>\n",
       "      <th>Mean_AUC</th>\n",
       "      <th>Mean_AUC_Std</th>\n",
       "    </tr>\n",
       "  </thead>\n",
       "  <tbody>\n",
       "    <tr>\n",
       "      <th>KNN</th>\n",
       "      <td>0.729</td>\n",
       "      <td>0.009</td>\n",
       "      <td>0.778</td>\n",
       "      <td>0.018</td>\n",
       "    </tr>\n",
       "    <tr>\n",
       "      <th>Naive Bayes</th>\n",
       "      <td>0.736</td>\n",
       "      <td>0.026</td>\n",
       "      <td>0.788</td>\n",
       "      <td>0.026</td>\n",
       "    </tr>\n",
       "    <tr>\n",
       "      <th>LogReg</th>\n",
       "      <td>0.776</td>\n",
       "      <td>0.012</td>\n",
       "      <td>0.835</td>\n",
       "      <td>0.019</td>\n",
       "    </tr>\n",
       "    <tr>\n",
       "      <th>SVM</th>\n",
       "      <td>0.794</td>\n",
       "      <td>0.017</td>\n",
       "      <td>0.840</td>\n",
       "      <td>0.017</td>\n",
       "    </tr>\n",
       "    <tr>\n",
       "      <th>Random Forest</th>\n",
       "      <td>0.748</td>\n",
       "      <td>0.007</td>\n",
       "      <td>0.789</td>\n",
       "      <td>0.017</td>\n",
       "    </tr>\n",
       "  </tbody>\n",
       "</table>\n",
       "</div>"
      ],
      "text/plain": [
       "               Mean_Accuracy  Mean_Accuracy_Std  Mean_AUC  Mean_AUC_Std\n",
       "KNN                    0.729              0.009     0.778         0.018\n",
       "Naive Bayes            0.736              0.026     0.788         0.026\n",
       "LogReg                 0.776              0.012     0.835         0.019\n",
       "SVM                    0.794              0.017     0.840         0.017\n",
       "Random Forest          0.748              0.007     0.789         0.017"
      ]
     },
     "execution_count": 26,
     "metadata": {},
     "output_type": "execute_result"
    }
   ],
   "source": [
    "X_train, X_test, y_train, y_test = train_test_split(X, y, test_size=0.2, random_state=42, stratify=y)\n",
    "X_train.drop('Round', axis=1, inplace=True)\n",
    "X_test.drop('Round', axis=1, inplace=True)\n",
    "\n",
    "cv_models = get_cv_models(y)\n",
    "model_performance = evaluate_cv_models(cv_models, X_train, y_train)\n",
    "\n",
    "model_performance"
   ]
  },
  {
   "cell_type": "code",
   "execution_count": 27,
   "metadata": {},
   "outputs": [
    {
     "data": {
      "image/png": "[encoded data removed]",
      "text/plain": [
       "<Figure size 648x432 with 1 Axes>"
      ]
     },
     "metadata": {
      "needs_background": "light"
     },
     "output_type": "display_data"
    }
   ],
   "source": [
    "model_performance[['Mean_Accuracy', 'Mean_AUC']].plot(figsize=(9, 6), kind='barh', xticks=np.arange(0, 0.9, 0.05))\n",
    "\n",
    "format_plot(title='Model Performance', xlabel='Metric Value', ylabel='Model')"
   ]
  },
  {
   "cell_type": "code",
   "execution_count": 28,
   "metadata": {
    "scrolled": true
   },
   "outputs": [
    {
     "data": {
      "image/png": "[encoded data removed]",
      "text/plain": [
       "<Figure size 648x432 with 1 Axes>"
      ]
     },
     "metadata": {
      "needs_background": "light"
     },
     "output_type": "display_data"
    }
   ],
   "source": [
    "model_performance.loc[['SVM', 'LogReg'], ['Mean_Accuracy_Std', 'Mean_AUC_Std']].plot(\n",
    "    figsize=(9, 6), kind='barh', xticks=np.arange(0.01, 0.05, 0.01)\n",
    ")\n",
    "\n",
    "format_plot(title='Model Stability', xlabel='Standard Deviation (Std)', ylabel='Model')"
   ]
  },
  {
   "cell_type": "markdown",
   "metadata": {},
   "source": [
    "# Model Evaluation"
   ]
  },
  {
   "cell_type": "code",
   "execution_count": 29,
   "metadata": {},
   "outputs": [
    {
     "data": {
      "text/plain": [
       "LinearSVC(C=0.01, dual=False, random_state=42)"
      ]
     },
     "metadata": {},
     "output_type": "display_data"
    }
   ],
   "source": [
    "best_model = cv_models['SVM'][-1].best_estimator_\n",
    "y_preds = best_model.predict(X_test)\n",
    "\n",
    "display(best_model)"
   ]
  },
  {
   "cell_type": "code",
   "execution_count": 30,
   "metadata": {},
   "outputs": [],
   "source": [
    "test_game_data = pd.concat([y_test, all_rounds, mm_matchups_df[['Seed_Favorite', 'Seed_Underdog']]], \n",
    "                           join='inner', axis=1).drop('Underdog_Upset', axis=1)\n",
    "test_game_data['Underdog_Upset'] = y_preds\n",
    "\n",
    "test_seed_pairs = get_seed_pairs(test_game_data)"
   ]
  },
  {
   "cell_type": "code",
   "execution_count": 31,
   "metadata": {},
   "outputs": [
    {
     "data": {
      "image/png": "[encoded data removed]",
      "text/plain": [
       "<Figure size 648x432 with 1 Axes>"
      ]
     },
     "metadata": {
      "needs_background": "light"
     },
     "output_type": "display_data"
    }
   ],
   "source": [
    "test_upset_pairs = test_seed_pairs[test_seed_pairs['Underdog_Upset'] == 1]\n",
    "test_upset_rounds_freq = test_upset_pairs['Round'].value_counts(normalize=True)\n",
    "test_upset_rounds_freq.plot(figsize=(9, 6), kind='bar', rot=15)\n",
    "\n",
    "format_plot(title='Test Set Upset Volumes by Round', xlabel='Round', ylabel='% of Upsets')"
   ]
  },
  {
   "cell_type": "code",
   "execution_count": 32,
   "metadata": {
    "scrolled": true
   },
   "outputs": [
    {
     "data": {
      "image/png": "[encoded data removed]",
      "text/plain": [
       "<Figure size 648x432 with 1 Axes>"
      ]
     },
     "metadata": {
      "needs_background": "light"
     },
     "output_type": "display_data"
    }
   ],
   "source": [
    "test_upset_pairs_freq = np.round(test_upset_pairs['Pairs'].value_counts(normalize=True)[:25], 3)\n",
    "test_upset_pairs_freq.plot(figsize=(9, 6), kind='bar', rot=35)\n",
    "\n",
    "format_plot(title='Test Set Upset Volumes by Seed Combo', xlabel='Seed Combo', ylabel='% of Upsets')"
   ]
  },
  {
   "cell_type": "code",
   "execution_count": 33,
   "metadata": {},
   "outputs": [
    {
     "name": "stdout",
     "output_type": "stream",
     "text": [
      "Test Set Metrics Report \n",
      "\n",
      "               precision    recall  f1-score   support\n",
      "\n",
      "           0       0.84      0.92      0.88       240\n",
      "           1       0.78      0.63      0.70       110\n",
      "\n",
      "    accuracy                           0.83       350\n",
      "   macro avg       0.81      0.77      0.79       350\n",
      "weighted avg       0.82      0.83      0.82       350\n",
      "\n"
     ]
    }
   ],
   "source": [
    "report = get_classification_report(y_test, y_preds)\n",
    "print(\"Test Set Metrics Report \\n\\n\", report)"
   ]
  },
  {
   "cell_type": "markdown",
   "metadata": {},
   "source": [
    "# 2021 March Madness Predictions"
   ]
  },
  {
   "cell_type": "markdown",
   "metadata": {},
   "source": [
    "## Data Pipeline"
   ]
  },
  {
   "cell_type": "code",
   "execution_count": 34,
   "metadata": {
    "scrolled": true
   },
   "outputs": [
    {
     "data": {
      "text/html": [
       "<div>\n",
       "<style scoped>\n",
       "    .dataframe tbody tr th:only-of-type {\n",
       "        vertical-align: middle;\n",
       "    }\n",
       "\n",
       "    .dataframe tbody tr th {\n",
       "        vertical-align: top;\n",
       "    }\n",
       "\n",
       "    .dataframe thead th {\n",
       "        text-align: right;\n",
       "    }\n",
       "</style>\n",
       "<table border=\"1\" class=\"dataframe\">\n",
       "  <thead>\n",
       "    <tr style=\"text-align: right;\">\n",
       "      <th></th>\n",
       "      <th>Seed</th>\n",
       "      <th>Team</th>\n",
       "      <th>Seed.1</th>\n",
       "      <th>Team.1</th>\n",
       "    </tr>\n",
       "  </thead>\n",
       "  <tbody>\n",
       "    <tr>\n",
       "      <th>0</th>\n",
       "      <td>16</td>\n",
       "      <td>Norfolk State</td>\n",
       "      <td>16</td>\n",
       "      <td>Appalachian State</td>\n",
       "    </tr>\n",
       "    <tr>\n",
       "      <th>1</th>\n",
       "      <td>11</td>\n",
       "      <td>Wichita State</td>\n",
       "      <td>11</td>\n",
       "      <td>Drake</td>\n",
       "    </tr>\n",
       "    <tr>\n",
       "      <th>3</th>\n",
       "      <td>16</td>\n",
       "      <td>Mount St. Mary's</td>\n",
       "      <td>16</td>\n",
       "      <td>Texas Southern</td>\n",
       "    </tr>\n",
       "    <tr>\n",
       "      <th>2</th>\n",
       "      <td>11</td>\n",
       "      <td>Michigan State</td>\n",
       "      <td>11</td>\n",
       "      <td>UCLA</td>\n",
       "    </tr>\n",
       "  </tbody>\n",
       "</table>\n",
       "</div>"
      ],
      "text/plain": [
       "   Seed              Team  Seed.1             Team.1\n",
       "0    16     Norfolk State      16  Appalachian State\n",
       "1    11     Wichita State      11              Drake\n",
       "3    16  Mount St. Mary's      16     Texas Southern\n",
       "2    11    Michigan State      11               UCLA"
      ]
     },
     "metadata": {},
     "output_type": "display_data"
    },
    {
     "data": {
      "text/html": [
       "<div>\n",
       "<style scoped>\n",
       "    .dataframe tbody tr th:only-of-type {\n",
       "        vertical-align: middle;\n",
       "    }\n",
       "\n",
       "    .dataframe tbody tr th {\n",
       "        vertical-align: top;\n",
       "    }\n",
       "\n",
       "    .dataframe thead th {\n",
       "        text-align: right;\n",
       "    }\n",
       "</style>\n",
       "<table border=\"1\" class=\"dataframe\">\n",
       "  <thead>\n",
       "    <tr style=\"text-align: right;\">\n",
       "      <th></th>\n",
       "      <th>Seed</th>\n",
       "      <th>Team</th>\n",
       "      <th>Seed.1</th>\n",
       "      <th>Team.1</th>\n",
       "    </tr>\n",
       "  </thead>\n",
       "  <tbody>\n",
       "    <tr>\n",
       "      <th>0</th>\n",
       "      <td>1</td>\n",
       "      <td>Gonzaga</td>\n",
       "      <td>16</td>\n",
       "      <td>Norfolk State</td>\n",
       "    </tr>\n",
       "    <tr>\n",
       "      <th>1</th>\n",
       "      <td>8</td>\n",
       "      <td>Oklahoma</td>\n",
       "      <td>9</td>\n",
       "      <td>Missouri</td>\n",
       "    </tr>\n",
       "    <tr>\n",
       "      <th>2</th>\n",
       "      <td>5</td>\n",
       "      <td>Creighton</td>\n",
       "      <td>12</td>\n",
       "      <td>UC Santa Barbara</td>\n",
       "    </tr>\n",
       "    <tr>\n",
       "      <th>3</th>\n",
       "      <td>4</td>\n",
       "      <td>Virginia</td>\n",
       "      <td>13</td>\n",
       "      <td>Ohio</td>\n",
       "    </tr>\n",
       "    <tr>\n",
       "      <th>4</th>\n",
       "      <td>6</td>\n",
       "      <td>USC</td>\n",
       "      <td>11</td>\n",
       "      <td>Drake</td>\n",
       "    </tr>\n",
       "    <tr>\n",
       "      <th>...</th>\n",
       "      <td>...</td>\n",
       "      <td>...</td>\n",
       "      <td>...</td>\n",
       "      <td>...</td>\n",
       "    </tr>\n",
       "    <tr>\n",
       "      <th>58</th>\n",
       "      <td>11</td>\n",
       "      <td>Syracuse</td>\n",
       "      <td>2</td>\n",
       "      <td>Houston</td>\n",
       "    </tr>\n",
       "    <tr>\n",
       "      <th>59</th>\n",
       "      <td>12</td>\n",
       "      <td>Oregon State</td>\n",
       "      <td>2</td>\n",
       "      <td>Houston</td>\n",
       "    </tr>\n",
       "    <tr>\n",
       "      <th>60</th>\n",
       "      <td>1</td>\n",
       "      <td>Gonzaga</td>\n",
       "      <td>11</td>\n",
       "      <td>UCLA</td>\n",
       "    </tr>\n",
       "    <tr>\n",
       "      <th>61</th>\n",
       "      <td>1</td>\n",
       "      <td>Baylor</td>\n",
       "      <td>2</td>\n",
       "      <td>Houston</td>\n",
       "    </tr>\n",
       "    <tr>\n",
       "      <th>62</th>\n",
       "      <td>1</td>\n",
       "      <td>Gonzaga</td>\n",
       "      <td>1</td>\n",
       "      <td>Baylor</td>\n",
       "    </tr>\n",
       "  </tbody>\n",
       "</table>\n",
       "<p>63 rows × 4 columns</p>\n",
       "</div>"
      ],
      "text/plain": [
       "    Seed          Team  Seed.1            Team.1\n",
       "0      1       Gonzaga      16     Norfolk State\n",
       "1      8      Oklahoma       9          Missouri\n",
       "2      5     Creighton      12  UC Santa Barbara\n",
       "3      4      Virginia      13              Ohio\n",
       "4      6           USC      11             Drake\n",
       "..   ...           ...     ...               ...\n",
       "58    11      Syracuse       2           Houston\n",
       "59    12  Oregon State       2           Houston\n",
       "60     1       Gonzaga      11              UCLA\n",
       "61     1        Baylor       2           Houston\n",
       "62     1       Gonzaga       1            Baylor\n",
       "\n",
       "[63 rows x 4 columns]"
      ]
     },
     "metadata": {},
     "output_type": "display_data"
    },
    {
     "data": {
      "text/plain": [
       "(None, None)"
      ]
     },
     "execution_count": 34,
     "metadata": {},
     "output_type": "execute_result"
    }
   ],
   "source": [
    "try:\n",
    "    curr_bracket_df = pd.read_csv('march_madness_curr_start_bracket.csv')\n",
    "except FileNotFoundError:\n",
    "    curr_bracket_df = fetch.get_current_bracket('http://www.espn.com/mens-college-basketball/tournament/bracket')\n",
    "    curr_bracket_df.to_csv('march_madness_curr_start_bracket.csv', index=False)\n",
    "    \n",
    "play_in = curr_bracket_df[:4]\n",
    "play_in = play_in.reindex([0, 1, 3, 2])\n",
    "\n",
    "first_round = curr_bracket_df[4:]\n",
    "first_round.index = range(len(first_round))\n",
    "\n",
    "display(play_in), display(first_round)"
   ]
  },
  {
   "cell_type": "code",
   "execution_count": 35,
   "metadata": {
    "scrolled": true
   },
   "outputs": [
    {
     "ename": "TypeError",
     "evalue": "cannot convert the series to <class 'float'>",
     "output_type": "error",
     "traceback": [
      "\u001b[1;31m---------------------------------------------------------------------------\u001b[0m",
      "\u001b[1;31mTypeError\u001b[0m                                 Traceback (most recent call last)",
      "\u001b[1;32m<ipython-input-35-bc57c9b1fec9>\u001b[0m in \u001b[0;36m<module>\u001b[1;34m\u001b[0m\n\u001b[1;32m----> 1\u001b[1;33m \u001b[0mbracket_preds\u001b[0m \u001b[1;33m=\u001b[0m \u001b[0mbracket_pipeline\u001b[0m\u001b[1;33m(\u001b[0m\u001b[0mcurr_year\u001b[0m\u001b[1;33m,\u001b[0m \u001b[0mplay_in\u001b[0m\u001b[1;33m,\u001b[0m \u001b[0mfirst_round\u001b[0m\u001b[1;33m,\u001b[0m \u001b[0mbest_model\u001b[0m\u001b[1;33m,\u001b[0m \u001b[0mnull_drops\u001b[0m\u001b[1;33m)\u001b[0m\u001b[1;33m\u001b[0m\u001b[1;33m\u001b[0m\u001b[0m\n\u001b[0m\u001b[0;32m      2\u001b[0m \u001b[0mdisplay\u001b[0m\u001b[1;33m(\u001b[0m\u001b[0mbracket_preds\u001b[0m\u001b[1;33m)\u001b[0m\u001b[1;33m\u001b[0m\u001b[1;33m\u001b[0m\u001b[0m\n",
      "\u001b[1;32m~\\Documents\\Personal Projects\\Data Science & Machine Learning\\2021 March Madness Predictions\\API\\preprocess\\data_pipeline.py\u001b[0m in \u001b[0;36mbracket_pipeline\u001b[1;34m(year, play_in, first_round, model, null_drops)\u001b[0m\n\u001b[0;32m    312\u001b[0m         \u001b[1;31m# Get all data needed for current generated/selected round\u001b[0m\u001b[1;33m\u001b[0m\u001b[1;33m\u001b[0m\u001b[1;33m\u001b[0m\u001b[0m\n\u001b[0;32m    313\u001b[0m         all_round_data, curr_X, school_matchups_df = round_pipeline(year, curr_round, all_curr_matchups, \n\u001b[1;32m--> 314\u001b[1;33m                                                                     clean_curr_season_data, null_drops)\n\u001b[0m\u001b[0;32m    315\u001b[0m         \u001b[1;31m# Create predictions\u001b[0m\u001b[1;33m\u001b[0m\u001b[1;33m\u001b[0m\u001b[1;33m\u001b[0m\u001b[0m\n\u001b[0;32m    316\u001b[0m         \u001b[0mschool_matchups_df\u001b[0m\u001b[1;33m[\u001b[0m\u001b[1;34m'Underdog_Upset'\u001b[0m\u001b[1;33m]\u001b[0m \u001b[1;33m=\u001b[0m \u001b[0mmodel\u001b[0m\u001b[1;33m.\u001b[0m\u001b[0mpredict\u001b[0m\u001b[1;33m(\u001b[0m\u001b[0mcurr_X\u001b[0m\u001b[1;33m)\u001b[0m\u001b[1;33m\u001b[0m\u001b[1;33m\u001b[0m\u001b[0m\n",
      "\u001b[1;32m~\\Documents\\Personal Projects\\Data Science & Machine Learning\\2021 March Madness Predictions\\API\\preprocess\\data_pipeline.py\u001b[0m in \u001b[0;36mround_pipeline\u001b[1;34m(year, curr_round, all_curr_matchups, clean_curr_season_data, null_drops)\u001b[0m\n\u001b[0;32m    263\u001b[0m \u001b[1;33m\u001b[0m\u001b[0m\n\u001b[0;32m    264\u001b[0m     \u001b[1;31m# Cleaned tournament matchup dataset\u001b[0m\u001b[1;33m\u001b[0m\u001b[1;33m\u001b[0m\u001b[1;33m\u001b[0m\u001b[0m\n\u001b[1;32m--> 265\u001b[1;33m     \u001b[0mcleaned_generated_round\u001b[0m \u001b[1;33m=\u001b[0m \u001b[0mclean_tourney_data\u001b[0m\u001b[1;33m(\u001b[0m\u001b[0myear\u001b[0m\u001b[1;33m,\u001b[0m \u001b[0mgenerated_round\u001b[0m\u001b[1;33m,\u001b[0m \u001b[0mclean_curr_season_data\u001b[0m\u001b[1;33m)\u001b[0m\u001b[1;33m\u001b[0m\u001b[1;33m\u001b[0m\u001b[0m\n\u001b[0m\u001b[0;32m    266\u001b[0m \u001b[1;33m\u001b[0m\u001b[0m\n\u001b[0;32m    267\u001b[0m     \u001b[1;31m# Merge all team season data to teams in matchups\u001b[0m\u001b[1;33m\u001b[0m\u001b[1;33m\u001b[0m\u001b[1;33m\u001b[0m\u001b[0m\n",
      "\u001b[1;32m~\\Documents\\Personal Projects\\Data Science & Machine Learning\\2021 March Madness Predictions\\API\\preprocess\\data_clean.py\u001b[0m in \u001b[0;36mclean_tourney_data\u001b[1;34m(year, mm_df, season_df)\u001b[0m\n\u001b[0;32m    146\u001b[0m \u001b[1;33m\u001b[0m\u001b[0m\n\u001b[0;32m    147\u001b[0m     \u001b[1;31m# Transform team listings into favorite-underdog matchups (using seeds & regular season record)\u001b[0m\u001b[1;33m\u001b[0m\u001b[1;33m\u001b[0m\u001b[1;33m\u001b[0m\u001b[0m\n\u001b[1;32m--> 148\u001b[1;33m     \u001b[0mfaves_unds\u001b[0m \u001b[1;33m=\u001b[0m \u001b[0mcreate_faves_underdogs\u001b[0m\u001b[1;33m(\u001b[0m\u001b[0mmm_df\u001b[0m\u001b[1;33m,\u001b[0m \u001b[0mseason_df\u001b[0m\u001b[1;33m)\u001b[0m\u001b[1;33m\u001b[0m\u001b[1;33m\u001b[0m\u001b[0m\n\u001b[0m\u001b[0;32m    149\u001b[0m \u001b[1;33m\u001b[0m\u001b[0m\n\u001b[0;32m    150\u001b[0m     \u001b[1;31m# Create new features representing favorite-underdog matchups\u001b[0m\u001b[1;33m\u001b[0m\u001b[1;33m\u001b[0m\u001b[1;33m\u001b[0m\u001b[0m\n",
      "\u001b[1;32m~\\Documents\\Personal Projects\\Data Science & Machine Learning\\2021 March Madness Predictions\\API\\preprocess\\feature_engineering.py\u001b[0m in \u001b[0;36mcreate_faves_underdogs\u001b[1;34m(mm_df, season_df)\u001b[0m\n\u001b[0;32m     87\u001b[0m         \u001b[1;32melse\u001b[0m\u001b[1;33m:\u001b[0m\u001b[1;33m\u001b[0m\u001b[1;33m\u001b[0m\u001b[0m\n\u001b[0;32m     88\u001b[0m             \u001b[1;31m# Get regular season win percentage for both teams\u001b[0m\u001b[1;33m\u001b[0m\u001b[1;33m\u001b[0m\u001b[1;33m\u001b[0m\u001b[0m\n\u001b[1;32m---> 89\u001b[1;33m             \u001b[0mteam_win_pct\u001b[0m \u001b[1;33m=\u001b[0m \u001b[0mfloat\u001b[0m\u001b[1;33m(\u001b[0m\u001b[0mseason_df\u001b[0m\u001b[1;33m[\u001b[0m\u001b[0mseason_df\u001b[0m\u001b[1;33m[\u001b[0m\u001b[1;34m'School'\u001b[0m\u001b[1;33m]\u001b[0m \u001b[1;33m==\u001b[0m \u001b[0mdata\u001b[0m\u001b[1;33m[\u001b[0m\u001b[1;34m'Team'\u001b[0m\u001b[1;33m]\u001b[0m\u001b[1;33m]\u001b[0m\u001b[1;33m[\u001b[0m\u001b[1;34m'W-L%'\u001b[0m\u001b[1;33m]\u001b[0m\u001b[1;33m)\u001b[0m\u001b[1;33m\u001b[0m\u001b[1;33m\u001b[0m\u001b[0m\n\u001b[0m\u001b[0;32m     90\u001b[0m             \u001b[0mteam1_win_pct\u001b[0m \u001b[1;33m=\u001b[0m \u001b[0mfloat\u001b[0m\u001b[1;33m(\u001b[0m\u001b[0mseason_df\u001b[0m\u001b[1;33m[\u001b[0m\u001b[0mseason_df\u001b[0m\u001b[1;33m[\u001b[0m\u001b[1;34m'School'\u001b[0m\u001b[1;33m]\u001b[0m \u001b[1;33m==\u001b[0m \u001b[0mdata\u001b[0m\u001b[1;33m[\u001b[0m\u001b[1;34m'Team.1'\u001b[0m\u001b[1;33m]\u001b[0m\u001b[1;33m]\u001b[0m\u001b[1;33m[\u001b[0m\u001b[1;34m'W-L%'\u001b[0m\u001b[1;33m]\u001b[0m\u001b[1;33m)\u001b[0m\u001b[1;33m\u001b[0m\u001b[1;33m\u001b[0m\u001b[0m\n\u001b[0;32m     91\u001b[0m \u001b[1;33m\u001b[0m\u001b[0m\n",
      "\u001b[1;32m~\\Anaconda3\\envs\\March Madness\\lib\\site-packages\\pandas\\core\\series.py\u001b[0m in \u001b[0;36mwrapper\u001b[1;34m(self)\u001b[0m\n\u001b[0;32m    127\u001b[0m         \u001b[1;32mif\u001b[0m \u001b[0mlen\u001b[0m\u001b[1;33m(\u001b[0m\u001b[0mself\u001b[0m\u001b[1;33m)\u001b[0m \u001b[1;33m==\u001b[0m \u001b[1;36m1\u001b[0m\u001b[1;33m:\u001b[0m\u001b[1;33m\u001b[0m\u001b[1;33m\u001b[0m\u001b[0m\n\u001b[0;32m    128\u001b[0m             \u001b[1;32mreturn\u001b[0m \u001b[0mconverter\u001b[0m\u001b[1;33m(\u001b[0m\u001b[0mself\u001b[0m\u001b[1;33m.\u001b[0m\u001b[0miloc\u001b[0m\u001b[1;33m[\u001b[0m\u001b[1;36m0\u001b[0m\u001b[1;33m]\u001b[0m\u001b[1;33m)\u001b[0m\u001b[1;33m\u001b[0m\u001b[1;33m\u001b[0m\u001b[0m\n\u001b[1;32m--> 129\u001b[1;33m         \u001b[1;32mraise\u001b[0m \u001b[0mTypeError\u001b[0m\u001b[1;33m(\u001b[0m\u001b[1;34mf\"cannot convert the series to {converter}\"\u001b[0m\u001b[1;33m)\u001b[0m\u001b[1;33m\u001b[0m\u001b[1;33m\u001b[0m\u001b[0m\n\u001b[0m\u001b[0;32m    130\u001b[0m \u001b[1;33m\u001b[0m\u001b[0m\n\u001b[0;32m    131\u001b[0m     \u001b[0mwrapper\u001b[0m\u001b[1;33m.\u001b[0m\u001b[0m__name__\u001b[0m \u001b[1;33m=\u001b[0m \u001b[1;34mf\"__{converter.__name__}__\"\u001b[0m\u001b[1;33m\u001b[0m\u001b[1;33m\u001b[0m\u001b[0m\n",
      "\u001b[1;31mTypeError\u001b[0m: cannot convert the series to <class 'float'>"
     ]
    }
   ],
   "source": [
    "bracket_preds = bracket_pipeline(curr_year, play_in, first_round, best_model, null_drops)\n",
    "display(bracket_preds)"
   ]
  },
  {
   "cell_type": "markdown",
   "metadata": {},
   "source": [
    "## Pre-Tournament Model Evaluation (3/17/21)"
   ]
  },
  {
   "cell_type": "code",
   "execution_count": null,
   "metadata": {
    "scrolled": false
   },
   "outputs": [],
   "source": [
    "curr_seed_pairs = get_seed_pairs(bracket_preds)\n",
    "curr_upset_pairs = curr_seed_pairs[curr_seed_pairs['Underdog_Upset'] == 1]\n",
    "\n",
    "curr_upset_rounds_freq = curr_upset_pairs['Round'].value_counts()\n",
    "curr_upset_rounds_freq.plot(figsize=(9, 6), kind='bar', rot=0)\n",
    "\n",
    "format_plot(title='Current Upset Volumes by Round', xlabel='Round', ylabel='% of Upsets')"
   ]
  },
  {
   "cell_type": "code",
   "execution_count": null,
   "metadata": {
    "scrolled": false
   },
   "outputs": [],
   "source": [
    "curr_seed_pairs = get_seed_pairs(bracket_preds)\n",
    "curr_upset_pairs = curr_seed_pairs[curr_seed_pairs['Underdog_Upset'] == 1]\n",
    "\n",
    "curr_upset_pairs_freq = curr_upset_pairs['Pairs'].value_counts()\n",
    "curr_upset_pairs_freq.plot(figsize=(9, 6), kind='bar', rot=35)\n",
    "\n",
    "format_plot(title='Current Upset Volumes by Seed Combo', xlabel='Seed Combo', ylabel='% of Upsets')"
   ]
  },
  {
   "cell_type": "code",
   "execution_count": null,
   "metadata": {
    "scrolled": true
   },
   "outputs": [],
   "source": [
    "for _round in bracket_preds['Round'].unique():\n",
    "    display(bracket_preds[bracket_preds['Round'] == _round])"
   ]
  },
  {
   "cell_type": "markdown",
   "metadata": {},
   "source": [
    "## Post-Tournament Model Evaluation"
   ]
  },
  {
   "cell_type": "code",
   "execution_count": null,
   "metadata": {},
   "outputs": [],
   "source": []
  }
 ],
 "metadata": {
  "kernelspec": {
   "display_name": "Python 3",
   "language": "python",
   "name": "python3"
  },
  "language_info": {
   "codemirror_mode": {
    "name": "ipython",
    "version": 3
   },
   "file_extension": ".py",
   "mimetype": "text/x-python",
   "name": "python",
   "nbconvert_exporter": "python",
   "pygments_lexer": "ipython3",
   "version": "3.6.12"
  }
 },
 "nbformat": 4,
 "nbformat_minor": 2
}
